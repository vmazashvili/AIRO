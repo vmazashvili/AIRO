{
  "cells": [
    {
      "cell_type": "markdown",
      "metadata": {
        "id": "8lw2apJ9qnYk"
      },
      "source": [
        "# **Problem 1.**\n",
        "## **1. Erdos-Renyi graph**\n"
      ]
    },
    {
      "cell_type": "code",
      "execution_count": 6,
      "metadata": {
        "id": "NLtUNnFP-LHD"
      },
      "outputs": [],
      "source": [
        "import networkx as nx\n",
        "import matplotlib.pyplot as plt\n",
        "import random as rand\n",
        "import multiprocessing\n",
        "from tqdm import tqdm"
      ]
    },
    {
      "cell_type": "code",
      "execution_count": 13,
      "metadata": {
        "id": "7c_mR4fT-gRt"
      },
      "outputs": [],
      "source": [
        "class Graph:\n",
        "    def __init__(self):\n",
        "        self.G = nx.Graph()\n",
        "        self.nodes = {}\n",
        "        self.edges = {}\n",
        "\n",
        "    def compute_diameter(self):\n",
        "        return nx.diameter(self.G)\n",
        "\n",
        "    def add_node(self, node):\n",
        "        if node not in self.nodes:\n",
        "            self.nodes[node] = set()\n",
        "\n",
        "    def add_edge(self, node1, node2):\n",
        "        if node1 in self.nodes and node2 in self.nodes:\n",
        "            self.edges[(node1, node2)] = 1\n",
        "            self.edges[(node2, node1)] = 1\n",
        "            self.nodes[node1].add(node2)\n",
        "            self.nodes[node2].add(node1)\n",
        "\n",
        "    '''\n",
        "    The easiest property to study is the degree distribution. A given node v is incident with\n",
        "    n − 1 potential edges, and each of them exists with probability p independently of each other.\n",
        "    '''\n",
        "    '''\n",
        "    in Section 3.2 we mentioned\n",
        "    that in social networks we observe heavy-tailed degree distributions. This shows one of the\n",
        "    main problems of the Erd˝os-R´enyi random graph model for modeling social networks. In other\n",
        "    words in the Erd˝os-R´enyi model the nodes are very similar\n",
        "    '''\n",
        "\n",
        "\n",
        "    def compute_degree_distribution(self):\n",
        "        degree_counts = {}\n",
        "        for node in self.nodes:\n",
        "            degree = len(self.nodes[node])\n",
        "            degree_counts[degree] = degree_counts.get(degree, 0) + 1\n",
        "        return degree_counts\n",
        "\n",
        "\n",
        "    def compute_diameter(self):\n",
        "        # Use breadth-first search to find the maximum shortest path length\n",
        "        max_path_length = 0\n",
        "        for node in self.nodes:\n",
        "            queue = [(node, 0)]\n",
        "            visited = set([node])\n",
        "\n",
        "            while queue:\n",
        "                current_node, path_length = queue.pop(0)\n",
        "                max_path_length = max(max_path_length, path_length)\n",
        "\n",
        "                for neighbor in self.nodes[current_node]:\n",
        "                    if neighbor not in visited:\n",
        "                        visited.add(neighbor)\n",
        "                        queue.append((neighbor, path_length + 1))\n",
        "\n",
        "        return max_path_length\n",
        "    def compute_clustering_coefficient(self):\n",
        "        return nx.average_clustering(self.G)\n",
        "\n",
        "    def plot_degree_distribution(self):\n",
        "        degree_dist = self.compute_degree_distribution()\n",
        "        degrees = list(degree_dist.keys())\n",
        "        frequencies = list(degree_dist.values())\n",
        "\n",
        "        plt.bar(degrees, frequencies)\n",
        "        plt.xlabel(\"Degree\")\n",
        "        plt.ylabel(\"Frequency\")\n",
        "        plt.title(\"Degree Distribution\")\n",
        "        plt.show()\n",
        "\n",
        "        plt.loglog(degrees, frequencies, 'bo', markersize=5)\n",
        "        plt.xlabel(\"Degree\")\n",
        "        plt.ylabel(\"Frequency\")\n",
        "        plt.title(\"degree Distribution (logarithmic Scale)\")\n",
        "        plt.show()\n",
        "\n",
        "    def plot_graph(self):\n",
        "        G = nx.Graph()\n",
        "        G.add_nodes_from(self.nodes.keys())\n",
        "        G.add_edges_from(self.edges.keys())\n",
        "\n",
        "        pos = nx.spring_layout(G)\n",
        "        nx.draw(G, pos, with_labels=True)\n",
        "        plt.show()\n",
        "\n",
        "    def compute_average_path_length(self):\n",
        "        return nx.average_shortest_path_length(self.G)\n",
        "\n",
        "\n",
        "class ErdosRenyiGraph(Graph):\n",
        "    def generate_er_graph(self, n, p):\n",
        "        self.nodes = {}\n",
        "        self.edges = {}\n",
        "\n",
        "        self.add_node(0)  # Add the first node\n",
        "\n",
        "        for i in range(1, n):\n",
        "            self.add_node(i)  # Add nodes from 1 to n-1\n",
        "\n",
        "            for j in range(i):\n",
        "                if rand.random() < p:  # Add an edge with probability p\n",
        "                    self.add_edge(i, j)\n",
        "\n",
        "class WattsStrogatzGraph(Graph):\n",
        "    def generate_ws_graph(self, n, k, beta):\n",
        "        self.nodes = {}\n",
        "        self.edges = {}\n",
        "\n",
        "        for node in range(n):\n",
        "            self.add_node(node)\n",
        "\n",
        "        # Create initial ring lattice\n",
        "        for node in self.nodes:\n",
        "            for i in range(1, k // 2 + 1):\n",
        "                neighbor = (node + i) % n\n",
        "                self.add_edge(node, neighbor)\n",
        "\n",
        "        # Rewire edges\n",
        "        for node in self.nodes:\n",
        "            for i in range(1, k // 2 + 1):\n",
        "                if rand.random() < beta:\n",
        "                    neighbor = (node + i) % n\n",
        "                    self.rewire_edge(node, neighbor)\n",
        "\n",
        "    def rewire_edge(self, node, neighbor):\n",
        "        # Remove existing edge\n",
        "        self.remove_edge(node, neighbor)\n",
        "\n",
        "        # Select a random node to connect\n",
        "        new_neighbor = rand.choice(list(self.nodes.keys()))\n",
        "\n",
        "        # Make sure the new neighbor is not the same as the original node or an existing neighbor\n",
        "        while new_neighbor == node or new_neighbor == neighbor or new_neighbor in self.nodes[node]:\n",
        "            new_neighbor = rand.choice(list(self.nodes.keys()))\n",
        "\n",
        "        # Add the new edge\n",
        "        self.add_edge(node, new_neighbor)\n",
        "\n",
        "    def remove_edge(self, node1, node2):\n",
        "        if (node1, node2) in self.edges:\n",
        "            del self.edges[(node1, node2)]\n",
        "            del self.edges[(node2, node1)]\n",
        "            self.nodes[node1].remove(node2)\n",
        "            self.nodes[node2].remove(node1)\n",
        "\n",
        "\n",
        "class BarabasiAlbertGraph(Graph):\n",
        "    def generate_ba_graph(self, n, l):\n",
        "        self.nodes = {}\n",
        "        self.edges = {}\n",
        "\n",
        "        self.add_node(0)  # Add the first node\n",
        "\n",
        "        for i in range(1, n):\n",
        "            self.add_node(i)  # Add nodes from 1 to n-1\n",
        "\n",
        "            # Connect the new node to l existing nodes\n",
        "            selected_nodes = self.select_nodes_to_connect(l)\n",
        "            for node in selected_nodes:\n",
        "                self.add_edge(i, node)\n",
        "\n",
        "    def select_nodes_to_connect(self, l):\n",
        "        # Calculate the total degree of the graph\n",
        "        total_degree = sum([len(neighbors) for neighbors in self.nodes.values()])\n",
        "\n",
        "        if total_degree == 0:\n",
        "            # If total_degree is zero, assign equal probabilities to all nodes\n",
        "            probabilities = [1 / len(self.nodes)] * len(self.nodes)\n",
        "        else:\n",
        "            # Calculate the probability for each node to be selected\n",
        "            probabilities = [len(neighbors) / total_degree for neighbors in self.nodes.values()]\n",
        "\n",
        "        # Select l nodes based on the probabilities\n",
        "        selected_nodes = rand.choices(list(self.nodes.keys()), weights=probabilities, k=l)\n",
        "        return selected_nodes\n",
        "\n",
        "    def compute_correlation_coefficient(self):\n",
        "        if len(self.G) == 0 or len(self.G.edges()) == 0:\n",
        "            return None  # Return None if the graph is empty\n",
        "\n",
        "        return nx.degree_assortativity_coefficient(self.G)\n"
      ]
    },
    {
      "cell_type": "code",
      "execution_count": 114,
      "metadata": {
        "colab": {
          "base_uri": "https://localhost:8080/"
        },
        "id": "yfI_CPlWCfS1",
        "outputId": "4ba41752-f598-4718-ce3d-4078fb3febdd"
      },
      "outputs": [
        {
          "output_type": "stream",
          "name": "stdout",
          "text": [
            "Correlation Coefficient: 0.000979687525672006\n",
            "Connectedness True\n"
          ]
        }
      ],
      "source": [
        "graph = ErdosRenyiGraph()\n",
        "graph.generate_er_graph(10000, 0.01)   # Generate an Erdos-Renyi graph with 1000 nodes and edge probability 0.01 degree\n",
        "#graph.compute_degree_distribution()\n",
        "#graph.plot_degree_distribution()\n",
        "\n",
        "print(\"Correlation Coefficient:\", graph.compute_correlation_coefficient())\n",
        "connectedness = graph.compute_connectedness()\n",
        "print(\"Connectedness\", connectedness)# Compute and print the diameter\n",
        "#diameter = graph.compute_diameter()\n",
        "#print(\"ER Diameter:\", diameter)\n",
        "#\n",
        "## Compute and print the clustering coefficient\n",
        "#clustering_coefficient = graph.compute_clustering_coefficient()\n",
        "#print(\"ER Clustering Coefficient:\", clustering_coefficient)\n",
        "\n"
      ]
    },
    {
      "cell_type": "code",
      "execution_count": 116,
      "metadata": {
        "colab": {
          "base_uri": "https://localhost:8080/"
        },
        "id": "qgwKDx_F303q",
        "outputId": "742dfb2e-5ac9-4cd5-d5fa-c30eca20dcd1"
      },
      "outputs": [
        {
          "output_type": "stream",
          "name": "stdout",
          "text": [
            "Correlation Coefficient: -0.0010902031856076964\n",
            "Connectedness True\n"
          ]
        }
      ],
      "source": [
        "graph = ErdosRenyiGraph()\n",
        "graph.generate_er_graph(10000, 0.11)   # Generate an Erdos-Renyi graph with 1000 nodes and edge probability 0.01 degree\n",
        "#graph.compute_degree_distribution()\n",
        "#graph.plot_degree_distribution()\n",
        "print(\"Correlation Coefficient:\", graph.compute_correlation_coefficient())\n",
        "connectedness = graph.compute_connectedness()\n",
        "print(\"Connectedness\", connectedness)\n",
        "# Compute and print the diameter\n",
        "#diameter = graph.compute_diameter()\n",
        "#print(\"ER Diameter:\", diameter)\n",
        "#\n",
        "## Compute and print the clustering coefficient\n",
        "#clustering_coefficient = graph.compute_clustering_coefficient()\n",
        "#print(\"ER Clustering Coefficient:\", clustering_coefficient)"
      ]
    },
    {
      "cell_type": "code",
      "execution_count": null,
      "metadata": {
        "id": "z4aCX-LJ30q6"
      },
      "outputs": [],
      "source": [
        "graph = ErdosRenyiGraph()\n",
        "graph.generate_er_graph(10000, 0.3)   # Generate an Erdos-Renyi graph with 1000 nodes and edge probability 0.01 degree\n",
        "#graph.compute_degree_distribution()\n",
        "#graph.plot_degree_distribution()\n",
        "#print(\"Correlation Coefficient:\", graph.compute_correlation_coefficient())\n",
        "#connectedness = graph.compute_connectedness()\n",
        "#print(\"Connectedness\", connectedness)\n",
        "## Compute and print the diameter\n",
        "diameter = graph.compute_diameter()\n",
        "#print(\"ER Diameter:\", diameter)\n",
        "#\n",
        "## Compute and print the clustering coefficient\n",
        "clustering_coefficient = graph.compute_clustering_coefficient()\n",
        "#print(\"ER Clustering Coefficient:\", clustering_coefficient)"
      ]
    },
    {
      "cell_type": "code",
      "execution_count": 118,
      "metadata": {
        "id": "jRBtvKSt65Wu",
        "colab": {
          "base_uri": "https://localhost:8080/"
        },
        "outputId": "e2f0cd21-5c7e-4584-fe0c-d7d60e115592"
      },
      "outputs": [
        {
          "output_type": "stream",
          "name": "stdout",
          "text": [
            "Correlation Coefficient: -0.025160322086971214\n",
            "Connectedness True\n"
          ]
        }
      ],
      "source": [
        "graph = BarabasiAlbertGraph()\n",
        "graph.generate_ba_graph(10000, 5)   # Generate an\n",
        "#graph.compute_degree_distribution()\n",
        "#graph.plot_degree_distribution()\n",
        "#print(\"Correlation Coefficient:\", graph.compute_correlation_coefficient())\n",
        "#connectedness = graph.compute_connectedness()\n",
        "#print(\"Connectedness\", connectedness)\n",
        "## Compute and print the diameter\n",
        "diameter = graph.compute_diameter()\n",
        "print(\"BA Diameter:\", diameter)\n",
        "#\n",
        "## Compute and print the clustering coefficient\n",
        "clustering_coefficient = graph.compute_clustering_coefficient()\n",
        "print(\"BA Clustering Coefficient:\", clustering_coefficient)\n",
        "#print(\"Connectedness:\", graph.compute_connectedness())\n",
        "#print(\"Average Path Length:\", graph.compute_average_path_length())\n",
        "#\n"
      ]
    },
    {
      "cell_type": "code",
      "execution_count": null,
      "metadata": {
        "id": "RINNZIjC4KoG"
      },
      "outputs": [],
      "source": [
        "graph = BarabasiAlbertGraph()\n",
        "graph.generate_ba_graph(20000, 5)   # Generate an\n",
        "#graph.compute_degree_distribution()\n",
        "#graph.plot_degree_distribution()\n",
        "#print(\"Correlation Coefficient:\", graph.compute_correlation_coefficient())\n",
        "#connectedness = graph.compute_connectedness()\n",
        "#print(\"Connectedness\", connectedness)\n",
        "## Compute and print the diameter\n",
        "diameter = graph.compute_diameter()\n",
        "print(\"BA Diameter:\", diameter)\n",
        "#\n",
        "## Compute and print the clustering coefficient\n",
        "clustering_coefficient = graph.compute_clustering_coefficient()\n",
        "print(\"BA Clustering Coefficient:\", clustering_coefficient)\n",
        "#print(\"Connectedness:\", graph.compute_connectedness())\n",
        "#print(\"Average Path Length:\", graph.compute_average_path_length())\n",
        "#\n"
      ]
    },
    {
      "cell_type": "code",
      "execution_count": 120,
      "metadata": {
        "colab": {
          "base_uri": "https://localhost:8080/"
        },
        "id": "ordzC1E74Ket",
        "outputId": "31d31b73-3fbc-4b86-91ba-3f7f0d291be1"
      },
      "outputs": [
        {
          "output_type": "stream",
          "name": "stdout",
          "text": [
            "Correlation Coefficient: 0.0014969868261041667\n",
            "Connectedness True\n"
          ]
        }
      ],
      "source": [
        "graph = BarabasiAlbertGraph()\n",
        "graph.generate_ba_graph(20000, 50)   # Generate an\n",
        "#graph.compute_degree_distribution()\n",
        "#graph.plot_degree_distribution()\n",
        "print(\"Correlation Coefficient:\", graph.compute_correlation_coefficient())\n",
        "connectedness = graph.compute_connectedness()\n",
        "print(\"Connectedness\", connectedness)\n",
        "## Compute and print the diameter\n",
        "#diameter = graph.compute_diameter()\n",
        "#print(\"BA Diameter:\", diameter)\n",
        "#\n",
        "## Compute and print the clustering coefficient\n",
        "#clustering_coefficient = graph.compute_clustering_coefficient()\n",
        "#print(\"BA Clustering Coefficient:\", clustering_coefficient)\n",
        "#\n",
        "#"
      ]
    },
    {
      "cell_type": "code",
      "execution_count": 121,
      "metadata": {
        "colab": {
          "base_uri": "https://localhost:8080/"
        },
        "id": "8goRIX2P4QH5",
        "outputId": "18bdace8-2e1a-4e91-b64f-0bb83054c363"
      },
      "outputs": [
        {
          "output_type": "stream",
          "name": "stdout",
          "text": [
            "Correlation Coefficient: 0.005468771475428923\n",
            "Connectedness True\n"
          ]
        }
      ],
      "source": [
        "graph = BarabasiAlbertGraph()\n",
        "graph.generate_ba_graph(20000, 100)   # Generate an\n",
        "#graph.compute_degree_distribution()\n",
        "#graph.plot_degree_distribution()\n",
        "print(\"Correlation Coefficient:\", graph.compute_correlation_coefficient())\n",
        "connectedness = graph.compute_connectedness()\n",
        "print(\"Connectedness\", connectedness)\n",
        "## Compute and print the diameter\n",
        "#diameter = graph.compute_diameter()\n",
        "#print(\"BA Diameter:\", diameter)\n",
        "#\n",
        "## Compute and print the clustering coefficient\n",
        "#clustering_coefficient = graph.compute_clustering_coefficient()\n",
        "#print(\"BA Clustering Coefficient:\", clustering_coefficient)\n",
        "#\n",
        "#"
      ]
    },
    {
      "cell_type": "code",
      "execution_count": 122,
      "metadata": {
        "colab": {
          "base_uri": "https://localhost:8080/"
        },
        "id": "YojqBWfS68Cz",
        "outputId": "b6acb886-4f0a-43a7-8cb8-32dce8b8b70f"
      },
      "outputs": [
        {
          "output_type": "stream",
          "name": "stdout",
          "text": [
            "Correlation Coefficient: -0.0011438354389191228\n",
            "Connectedness True\n"
          ]
        }
      ],
      "source": [
        "graph = WattsStrogatzGraph()\n",
        "graph.generate_ws_graph(10000,400, 0.01)\n",
        "#graph.compute_degree_distribution()\n",
        "#graph.plot_degree_distribution()\n",
        "#\n",
        "## Compute and print the diameter\n",
        "#diameter = graph.compute_diameter()\n",
        "#print(\"WS Diameter:\", diameter)\n",
        "#\n",
        "## Compute and print the clustering coefficient\n",
        "#clustering_coefficient = graph.compute_clustering_coefficient()\n",
        "#print(\"WS Clustering Coefficient:\", clustering_coefficient)\n",
        "#\n",
        "##graph.plot_graph()\n",
        "print(\"Correlation Coefficient:\", graph.compute_correlation_coefficient())\n",
        "connectedness = graph.compute_connectedness()\n",
        "print(\"Connectedness\", connectedness)"
      ]
    },
    {
      "cell_type": "code",
      "execution_count": 123,
      "metadata": {
        "colab": {
          "base_uri": "https://localhost:8080/"
        },
        "id": "SEgZbTnI4UEo",
        "outputId": "b526062a-d0a4-47d1-aa7c-b3f9df53bacc"
      },
      "outputs": [
        {
          "output_type": "stream",
          "name": "stdout",
          "text": [
            "Correlation Coefficient: -0.0015213639799704947\n",
            "Connectedness True\n"
          ]
        }
      ],
      "source": [
        "graph = WattsStrogatzGraph()\n",
        "graph.generate_ws_graph(20000,200, 0.01)\n",
        "#graph.compute_degree_distribution()\n",
        "#graph.plot_degree_distribution()\n",
        "#\n",
        "## Compute and print the diameter\n",
        "#diameter = graph.compute_diameter()\n",
        "#print(\"WS Diameter:\", diameter)\n",
        "#\n",
        "## Compute and print the clustering coefficient\n",
        "#clustering_coefficient = graph.compute_clustering_coefficient()\n",
        "#print(\"WS Clustering Coefficient:\", clustering_coefficient)\n",
        "#\n",
        "##graph.plot_graph()\n",
        "print(\"Correlation Coefficient:\", graph.compute_correlation_coefficient())\n",
        "connectedness = graph.compute_connectedness()\n",
        "print(\"Connectedness\", connectedness)\n",
        "#print(\"Average Path Length:\", graph.compute_average_path_length())"
      ]
    },
    {
      "cell_type": "code",
      "execution_count": 124,
      "metadata": {
        "colab": {
          "base_uri": "https://localhost:8080/"
        },
        "id": "DHNegtgT4T5c",
        "outputId": "c373948a-1091-4d50-8420-684c324f0e88"
      },
      "outputs": [
        {
          "output_type": "stream",
          "name": "stdout",
          "text": [
            "Correlation Coefficient: 0.000443634502790464\n",
            "Connectedness True\n"
          ]
        }
      ],
      "source": [
        "graph = WattsStrogatzGraph()\n",
        "graph.generate_ws_graph(20000,200, 0.11)\n",
        "#graph.compute_degree_distribution()\n",
        "#graph.plot_degree_distribution()\n",
        "#\n",
        "## Compute and print the diameter\n",
        "#diameter = graph.compute_diameter()\n",
        "#print(\"WS Diameter:\", diameter)\n",
        "#\n",
        "## Compute and print the clustering coefficient\n",
        "#clustering_coefficient = graph.compute_clustering_coefficient()\n",
        "#print(\"WS Clustering Coefficient:\", clustering_coefficient)\n",
        "##graph.plot_graph()\n",
        "print(\"Correlation Coefficient:\", graph.compute_correlation_coefficient())\n",
        "connectedness = graph.compute_connectedness()\n",
        "print(\"Connectedness\", connectedness)"
      ]
    },
    {
      "cell_type": "code",
      "execution_count": 125,
      "metadata": {
        "colab": {
          "base_uri": "https://localhost:8080/"
        },
        "id": "tM-4zSyn4gHu",
        "outputId": "e50984af-f966-4daf-ce25-459e02377328"
      },
      "outputs": [
        {
          "output_type": "stream",
          "name": "stdout",
          "text": [
            "Correlation Coefficient: -0.0008094265308064043\n",
            "Connectedness True\n"
          ]
        }
      ],
      "source": [
        "graph = WattsStrogatzGraph()\n",
        "graph.generate_ws_graph(20000,400, 0.1)\n",
        "#graph.compute_degree_distribution()\n",
        "#graph.plot_degree_distribution()\n",
        "#\n",
        "## Compute and print the diameter\n",
        "#diameter = graph.compute_diameter()\n",
        "#print(\"WS Diameter:\", diameter)\n",
        "#\n",
        "## Compute and print the clustering coefficient\n",
        "#clustering_coefficient = graph.compute_clustering_coefficient()\n",
        "#print(\"WS Clustering Coefficient:\", clustering_coefficient)\n",
        "#\n",
        "##graph.plot_graph()\n",
        "print(\"Correlation Coefficient:\", graph.compute_correlation_coefficient())\n",
        "connectedness = graph.compute_connectedness()\n",
        "print(\"Connectedness\", connectedness)"
      ]
    },
    {
      "cell_type": "code",
      "execution_count": 126,
      "metadata": {
        "colab": {
          "base_uri": "https://localhost:8080/"
        },
        "id": "0iNe_e714k-2",
        "outputId": "f850341f-2050-4dfe-e7d2-3581c6fbf96f"
      },
      "outputs": [
        {
          "output_type": "stream",
          "name": "stdout",
          "text": [
            "Correlation Coefficient: -0.0011990267246720309\n",
            "Connectedness True\n"
          ]
        }
      ],
      "source": [
        "graph = WattsStrogatzGraph()\n",
        "graph.generate_ws_graph(20000,400, 0.2)\n",
        "#graph.compute_degree_distribution()\n",
        "#graph.plot_degree_distribution()\n",
        "#\n",
        "## Compute and print the diameter\n",
        "#diameter = graph.compute_diameter()\n",
        "#print(\"WS Diameter:\", diameter)\n",
        "#\n",
        "## Compute and print the clustering coefficient\n",
        "#clustering_coefficient = graph.compute_clustering_coefficient()\n",
        "#print(\"WS Clustering Coefficient:\", clustering_coefficient)\n",
        "#print(\"Connectedness:\", graph.compute_connectedness())\n",
        "#print(\"Average Path Length:\", graph.compute_average_path_length())\n",
        "##graph.plot_graph()\n",
        "print(\"Correlation Coefficient:\", graph.compute_correlation_coefficient())\n",
        "connectedness = graph.compute_connectedness()\n",
        "print(\"Connectedness\", connectedness)"
      ]
    },
    {
      "cell_type": "code",
      "execution_count": 127,
      "metadata": {
        "colab": {
          "base_uri": "https://localhost:8080/"
        },
        "id": "sJQuY12y4k2Y",
        "outputId": "b705cdab-5b5c-4c41-aff2-dcbaa5910db4"
      },
      "outputs": [
        {
          "output_type": "stream",
          "name": "stdout",
          "text": [
            "Correlation Coefficient: -0.00030606988216486537\n",
            "Connectedness True\n"
          ]
        }
      ],
      "source": [
        "graph = WattsStrogatzGraph()\n",
        "graph.generate_ws_graph(20000,800, 0.2)\n",
        "#graph.compute_degree_distribution()\n",
        "#graph.plot_degree_distribution()\n",
        "#\n",
        "## Compute and print the diameter\n",
        "#diameter = graph.compute_diameter()\n",
        "#print(\"WS Diameter:\", diameter)\n",
        "#\n",
        "## Compute and print the clustering coefficient\n",
        "#clustering_coefficient = graph.compute_clustering_coefficient()\n",
        "#print(\"WS Clustering Coefficient:\", clustering_coefficient)\n",
        "#print(\"Connectedness:\", graph.compute_connectedness())\n",
        "#print(\"Average Path Length:\", graph.compute_average_path_length())\n",
        "##graph.plot_graph(\n",
        "print(\"Correlation Coefficient:\", graph.compute_correlation_coefficient())\n",
        "connectedness = graph.compute_connectedness()\n",
        "print(\"Connectedness\", connectedness)"
      ]
    },
    {
      "cell_type": "code",
      "execution_count": null,
      "metadata": {
        "id": "GqMHv2m84ksA"
      },
      "outputs": [],
      "source": [
        "graph = WattsStrogatzGraph()\n",
        "graph.generate_ws_graph(20000,800, 0.5)\n",
        "#graph.compute_degree_distribution()\n",
        "#graph.plot_degree_distribution()\n",
        "#\n",
        "## Compute and print the diameter\n",
        "#diameter = graph.compute_diameter()\n",
        "#print(\"WS Diameter:\", diameter)\n",
        "#\n",
        "## ompute and print the clustering coefficient\n",
        "#clustering_coefficient = graph.compute_clustering_coefficient()\n",
        "#print(\"WS Clustering Coefficient:\", clustering_coefficient)\n",
        "#print(\"Connectedness:\", graph.compute_connectedness())\n",
        "#print(\"Average Path Length:\", graph.compute_average_path_length())\n",
        "##graph.plot_graph()\n",
        "print(\"Correlation Coefficient:\", graph.compute_correlation_coefficient())\n",
        "connectedness = graph.compute_connectedness()\n",
        "print(\"Connectedness\", connectedness)"
      ]
    },
    {
      "cell_type": "markdown",
      "metadata": {
        "id": "pOvZ7VRS-4RS"
      },
      "source": [
        "# Problem 2"
      ]
    },
    {
      "cell_type": "code",
      "execution_count": null,
      "metadata": {
        "id": "3hQPmzJ0-3_6"
      },
      "outputs": [],
      "source": [
        "import networkx as nx\n",
        "import matplotlib.pyplot as plt\n",
        "\n",
        "\n",
        "class Node:\n",
        "    def __init__(self, value):\n",
        "        self.value = value\n",
        "        self.next = None\n",
        "\n",
        "\n",
        "def construct_circle_graph(n):\n",
        "    # Create n nodes\n",
        "    nodes = [Node(i) for i in range(1, n+1)]\n",
        "\n",
        "    # Connect the nodes in a circle\n",
        "    for i in range(n):\n",
        "        nodes[i].next = nodes[(i+1) % n]\n",
        "\n",
        "    return nodes\n",
        "\n",
        "\n",
        "# Test the function\n",
        "n = int(input(\"Enter the number of nodes: \"))\n",
        "circle_graph = construct_circle_graph(n)\n",
        "\n",
        "# Create a directed graph from the circle graph\n",
        "G = nx.DiGraph()\n",
        "for node in circle_graph:\n",
        "    G.add_edge(node.value, node.next.value, weight=1)\n",
        "\n",
        "# Draw the graph\n",
        "pos = nx.circular_layout(G)\n",
        "nx.draw(G, pos, with_labels=True, node_size=800, node_color='lightblue', edge_color='gray', arrows=True)\n",
        "edge_labels = nx.get_edge_attributes(G, 'weight')\n",
        "nx.draw_networkx_edge_labels(G, pos, edge_labels=edge_labels)\n",
        "plt.title(\"Directed Circle Graph\")\n",
        "plt.axis('equal')\n",
        "plt.show()\n"
      ]
    },
    {
      "cell_type": "markdown",
      "metadata": {
        "id": "tVFnPYhe_RH3"
      },
      "source": [
        "# Problem 5"
      ]
    },
    {
      "cell_type": "markdown",
      "source": [
        "Files:\n",
        "\n",
        "nodeId.edges : The edges in the ego network for the node 'nodeId'. Edges are undirected. The 'ego' node does not appear, but it is assumed that they follow every node id that appears in this file.\n",
        "\n",
        "nodeId.circles : The set of circles for the ego node. Each line contains one circle, consisting of a series of node ids. The first entry in each line is the name of the circle.\n",
        "\n",
        "nodeId.feat : The features for each of the nodes that appears in the edge file.\n",
        "\n",
        "nodeId.egofeat : The features for the ego user.\n",
        "\n",
        "nodeId.featnames : The names of each of the feature dimensions. Features are '1' if the user has this property in their profile, and '0' otherwise. This file has been anonymized for facebook users, since the names of the features would reveal private data."
      ],
      "metadata": {
        "id": "Vni-dALnhiOU"
      }
    },
    {
      "cell_type": "code",
      "source": [
        "import pandas as pd\n",
        "import numpy as np\n",
        "import codecs\n",
        "import csv\n"
      ],
      "metadata": {
        "id": "-0De-x4lUV8T"
      },
      "execution_count": 5,
      "outputs": []
    },
    {
      "cell_type": "code",
      "source": [
        "from google.colab import drive\n",
        "drive.mount('/content/drive')"
      ],
      "metadata": {
        "colab": {
          "base_uri": "https://localhost:8080/",
          "height": 0
        },
        "id": "cGiB-PFriqQN",
        "outputId": "8125a1b4-45a2-45ce-c5b7-28c68abf1597"
      },
      "execution_count": 2,
      "outputs": [
        {
          "output_type": "stream",
          "name": "stdout",
          "text": [
            "Mounted at /content/drive\n"
          ]
        }
      ]
    },
    {
      "cell_type": "markdown",
      "source": [
        "## Data Preprocessing"
      ],
      "metadata": {
        "id": "R98QXuE0T3aw"
      }
    },
    {
      "cell_type": "code",
      "source": [
        "import os\n",
        "import numpy as np\n",
        "\n",
        "data_dir = '/content/drive/MyDrive/Social Networks Homework_Vano Mazashvili/facebook'\n",
        "node_ids = ['0', '107', '348', '414', '686', '698', '1684', '1912', '3437', '3980']\n",
        "\n",
        "def process_feat_files(data_dir, node_id):\n",
        "    feat_file_path = os.path.join(data_dir, f'{node_id}.feat')\n",
        "    featname_file_path = os.path.join(data_dir, f'{node_id}.featnames')\n",
        "\n",
        "    with open(feat_file_path, 'r') as feat_file, open(featname_file_path, 'r') as featname_file:\n",
        "        featnames = featname_file.read().strip().split('\\n')\n",
        "        arrays = []\n",
        "\n",
        "        for line in feat_file:\n",
        "            line = line.strip()\n",
        "            if line:\n",
        "                feat = list(map(int, line.split()[1:]))\n",
        "                selected_featnames = [featnames[i-1].split()[-1] for i, val in enumerate(feat, start=1) if val == 1]\n",
        "\n",
        "                new_array = np.zeros(1283, dtype=int)\n",
        "                for featname in selected_featnames:\n",
        "                    new_array[int(featname)] = 1\n",
        "\n",
        "                arrays.append(new_array)\n",
        "\n",
        "        arrays = np.array(arrays)\n",
        "        return arrays\n",
        "\n",
        "\n",
        "edge_files= [f for f in os.listdir(data_dir) if f.endswith('.edges')]\n",
        "\n",
        "edge_file_path = os.path.join(data_dir, f'{node_ids}.edges')\n",
        "\n",
        "edge_files = [f for f in os.listdir(data_dir) if f.endswith('.edges')]\n",
        "\n",
        "edges = []\n",
        "for edge_file in edge_files:\n",
        "    with open(os.path.join(data_dir, edge_file), 'r') as file:\n",
        "        for line in file:\n",
        "            edge = line.strip().split()\n",
        "            edge = list(map(int, edge))  # Convert edges to integers\n",
        "            edges.append(edge)\n",
        "\n",
        "unique_nodes = set()\n",
        "for edge in edges:\n",
        "    unique_nodes.add(edge[0])\n",
        "    unique_nodes.add(edge[1])\n",
        "\n",
        "\n",
        "\n",
        "features = None\n",
        "\n",
        "for node_id in node_ids:\n",
        "    result = process_feat_files(data_dir, node_id)\n",
        "    if features is None:\n",
        "        features = result\n",
        "    else:\n",
        "        features = np.concatenate((features, result), axis=0)\n",
        "\n",
        "circles_files = [f for f in os.listdir(data_dir) if f.endswith('.circles')]\n",
        "l = {}\n",
        "for circles_file in circles_files:\n",
        "    with open(os.path.join(data_dir, circles_file), 'r') as file:\n",
        "        for line in file:\n",
        "            circle = line.strip().split()\n",
        "            circle_name = circle[0]\n",
        "            circle_nodes = circle[1:]\n",
        "\n",
        "            if circle_name in l:\n",
        "                l[circle_name].extend(circle_nodes)\n",
        "            else:\n",
        "                l[circle_name] = circle_nodes\n",
        "\n",
        "# Assign labels to nodes\n",
        "node_ids = set()\n",
        "for node_list in l.values():\n",
        "    node_ids.update(node_list)\n",
        "\n",
        "max_label_index = len(l) - 1\n",
        "\n",
        "label_vectors = []\n",
        "for node_id in range(1, 4168):  # Assuming 4167 nodes in total\n",
        "    label_vector = [0] * (max_label_index + 1)\n",
        "    for label_index, node_list in enumerate(l.values()):\n",
        "        if str(node_id) in node_list:\n",
        "            label_vector[label_index] = 1\n",
        "    label_vectors.append(label_vector)\n",
        "\n",
        "labels = []\n",
        "labels = np.sum(label_vectors, axis=1)\n",
        "\n",
        "num_nodes = len(unique_nodes)\n",
        "lb = np.zeros((num_nodes, 46), dtype=int)\n",
        "\n",
        "for node_id, node_list in enumerate(l.values()):\n",
        "    for circle_name, circle_nodes in l.items():\n",
        "        circle_index = int(circle_name.replace(\"circle\", \"\")) - 1\n",
        "        if str(node_id + 1) in circle_nodes:\n",
        "            lb[node_id][circle_index] = 1\n",
        "\n",
        "\n",
        "#print(len(labels))\n",
        "#print(max(labels))\n",
        "#print(labels)\n",
        "#print(features)\n",
        "#print(features[345][2])\n",
        "#print(len(features))\n",
        "print(len(edges))\n",
        "print(len(features))\n",
        "print(l)\n",
        "print(labels)\n",
        "print(len(labels))\n",
        "num_unique_nodes = len(unique_nodes)\n",
        "print(f\"Number of unique nodes: {num_unique_nodes}\")"
      ],
      "metadata": {
        "colab": {
          "base_uri": "https://localhost:8080/",
          "height": 0
        },
        "id": "1roE61fmzt5o",
        "outputId": "8af57ad5-c6f4-4fea-c569-3b7cd93b4fb1"
      },
      "execution_count": 35,
      "outputs": [
        {
          "output_type": "stream",
          "name": "stdout",
          "text": [
            "170174\n",
            "4167\n",
            "{'circle0': ['71', '215', '54', '61', '298', '229', '81', '253', '193', '97', '264', '29', '132', '110', '163', '259', '183', '334', '245', '222', '475', '373', '461', '391', '376', '524', '348', '436', '513', '475', '388', '373', '431', '463', '461', '517', '400', '391', '450', '500', '452', '366', '414', '408', '525', '524', '387', '376', '1043', '1045', '1030', '1252', '1254', '1368', '1197', '955', '1111', '1384', '828', '830', '708', '713', '840', '803', '747', '774', '823', '745', '856', '697', '719', '783', '717', '837', '843', '797', '728', '831', '803', '823', '705', '763', '820', '748', '824', '745', '856', '697', '804', '730', '709', '849', '719', '737', '755', '817', '836', '765', '716', '769', '782', '747', '774', '770', '718', '841', '792', '720', '781', '808', '838', '764', '819', '807', '708', '840', '698', '852', '780', '814', '809', '687', '828', '830', '754', '759', '739', '827', '815', '700', '758', '787', '798', '779', '835', '703', '790', '741', '793', '832', '812', '805', '775', '3518', '3860', '3605', '3488', '3938', '3574', '3604', '3640', '3832', '2540', '2047', '2543', '2332', '2183', '2094', '1941', '2900', '3077', '2934', '3186', '2870', '3162', '3207', '2947', '3001', '3118', '3177', '3410', '2990', '2860', '3420', '3176', '3356', '2775', '2739', '3371', '3191', '2696', '3018', '2724', '2728', '3007', '3068', '3412', '2711', '3019', '2951', '2737', '2892', '3002', '3366', '2830', '3223', '1405', '2779', '3379', '2962', '2662', '2682', '3415', '3295', '2829', '2820', '3334', '3210', '3103', '2713', '2671', '3285', '3069', '3086', '3244', '3273', '2995', '3154', '3100', '3246', '2845', '3203', '3346', '3359', '3168', '3233', '2697', '3062', '3241', '3989', '4009'], 'circle1': ['173', '378', '412', '513', '475', '438', '669', '553', '373', '514', '558', '651', '431', '683', '614', '461', '506', '544', '668', '363', '400', '542', '637', '391', '566', '559', '395', '428', '500', '606', '604', '591', '567', '607', '374', '465', '580', '496', '376', '492', '370', '524', '641', '423', '601', '394', '676', '107', '348', '515', '590', '674', '563', '483', '434', '436', '561', '556', '378', '526', '449', '412', '536', '439', '446', '509', '489', '398', '419', '513', '405', '554', '475', '396', '520', '458', '533', '540', '438', '568', '388', '356', '469', '442', '502', '361', '528', '571', '553', '373', '565', '514', '558', '415', '508', '497', '432', '375', '493', '477', '504', '478', '445', '537', '354', '431', '473', '547', '560', '532', '529', '463', '484', '494', '451', '420', '461', '392', '436', '485', '516', '491', '506', '362', '544', '481', '426', '466', '517', '372', '519', '535', '462', '570', '352', '355', '390', '417', '363', '522', '421', '476', '400', '424', '542', '487', '402', '534', '397', '391', '566', '551', '395', '437', '512', '381', '470', '450', '500', '353', '367', '371', '380', '482', '569', '409', '495', '559', '452', '366', '567', '433', '414', '408', '518', '499', '511', '521', '456', '510', '360', '539', '465', '394', '555', '349', '389', '428', '369', '525', '435', '440', '455', '548', '460', '505', '531', '563', '488', '459', '486', '492', '538', '543', '530', '453', '557', '359', '472', '523', '403', '490', '524', '406', '527', '410', '416', '507', '467', '474', '413', '423', '407', '374', '404', '545', '387', '368', '496', '379', '572', '515', '480', '541', '377', '376', '385', '448', '457', '357', '503', '483', '434', '429', '546', '430', '370', '479', '471', '561', '418', '350', '382', '422', '383', '562', '425', '556', '444', '1410', '1144', '950', '1385', '1174', '1087', '563', '1684', '1676', '1555', '1549', '389', '1013', '1251', '1031', '1421', '882', '863', '888', '753', '729', '864', '884', '878', '825', '876', '886', '889', '856', '875', '893', '804', '722', '771', '768', '782', '747', '813', '746', '854', '733', '786', '789', '698', '691', '806', '742', '850', '757', '833', '736', '816', '743', '3786', '3623', '3947', '3782', '2014', '2571', '2009', '2011', '2657', '1931', '2639', '2640', '2645', '1999', '2000', '1998', '2284', '2585', '2001', '2020', '2192', '2159', '2024', '2297', '1921', '1995', '2004', '2378', '2006', '2346', '2116', '2648', '2647', '2459', '2337', '2022', '2658', '2660', '2659', '2018', '2268', '2633', '1976', '2341', '1968', '1927', '1954', '2447', '1928', '2157', '2472', '1991', '1950', '2627', '2626', '1914', '2016', '2012', '136', '2364', '2636', '2494', '2015', '2097', '2620', '2583', '1951', '2538', '1935', '2143', '2025', '2027', '2171', '1919', '860', '2885', '2814', '2717', '2838', '2740', '2704', '3003', '58', '3290', '171', '4010', '4037'], 'circle2': ['155', '99', '327', '140', '116', '147', '144', '150', '270', '649', '558', '594', '173', '428', '427', '604', '567', '607', '107', '348', '563', '667', '526', '536', '398', '419', '375', '493', '431', '484', '494', '462', '352', '395', '512', '409', '408', '511', '456', '525', '440', '538', '404', '368', '503', '479', '561', '1469', '1504', '1727', '1183', '1052', '1807', '913', '1263', '1690', '1035', '1531', '1699', '1444', '1738', '1745', '1760', '1429', '987', '1542', '828', '708', '880', '800', '772', '840', '774', '823', '810', '745', '856', '697', '805', '776', '722', '788', '796', '823', '725', '707', '856', '771', '782', '818', '746', '732', '802', '699', '702', '733', '819', '714', '786', '789', '698', '712', '806', '810', '822', '833', '839', '689', '791', '767', '3963', '3771', '3939', '3682', '3624', '3894', '3949', '2456', '2785', '3175', '3111', '2849', '2708', '3013', '3272', '3224', '2992', '3079', '3386', '2904', '2797', '3360', '2833', '2778', '2875', '3422', '3434', '2869', '2720', '3396', '3206', '2793', '3145', '3101', '3194', '3291', '3046', '3316', '3116', '2881', '3039', '2684', '3005', '3297', '3017', '3403', '3146', '3021', '3252', '3247', '3299', '3188', '2863', '2973', '3060', '3355', '3115', '3391', '3262', '3306', '2716', '2672', '3204', '3152', '3179', '3411', '3381', '2936', '3170', '3201', '3367', '3192', '3051', '3209', '2989', '3254', '2753', '3280', '2765', '3287', '3106', '3344', '2733', '2901', '3313', '2783', '2846', '3350', '3198', '3197', '2742', '3298', '3239', '3288', '3352', '3419', '3109', '3058', '3321', '2970', '3172', '3132', '2976', '3112', '3281', '3038', '3332', '3353', '3182', '3082', '3267', '3320', '3397', '3212', '3225', '3049', '3185', '3240', '3076', '2965', '2687', '3102', '3274', '2674', '2840', '3011', '2894', '3120', '3406', '3113', '2770', '2719', '2991', '3041', '2937', '3260', '2701', '3378', '3347', '3296', '2828', '2661', '3089', '3357', '3070', '3261', '2748', '3351', '3377', '3345', '3169', '3035', '3416', '2780', '3150', '3148', '3016', '3277', '2939', '2796', '3265', '4013'], 'circle3': ['51', '83', '237', '611', '603', '597', '579', '592', '684', '677', '508', '478', '534', '349', '434', '1320', '1616', '1025', '976', '651', '1237', '1223', '566', '1881', '1080', '0', '1142', '517', '1155', '1408', '563', '1692', '1684', '914', '348', '915', '420', '363', '1487', '606', '1766', '1549', '366', '1113', '1679', '1882', '428', '58', '1114', '1574', '1332', '1387', '1767', '1179', '882', '863', '888', '729', '878', '876', '886', '889', '856', '875', '804', '796', '729', '710', '735', '769', '761', '762', '825', '692', '811', '850', '753', '715', '3518', '3860', '3651', '3605', '3677', '3488', '3962', '3880', '3456', '1085', '3656', '3753', '3938', '3574', '3521', '3830', '3633', '3604', '3948', '3674', '3907', '3640', '3832', '3586', '2108', '2369', '2046', '2059', '2694', '2787', '4024', '3987', '4015'], 'circle4': ['125', '344', '295', '257', '55', '122', '223', '59', '268', '280', '84', '156', '258', '236', '250', '239', '69', '647', '583', '661', '578', '576', '615', '600', '595', '582', '599', '500', '635', '632', '675', '662', '670', '628', '658', '643', '659', '577', '665', '681', '640', '650', '627', '549', '558', '173', '198', '427', '428', '563', '34', '480', '1177', '1896', '1053', '1138', '1057', '1403', '979', '1016', '1664', '1607', '774', '856', '783', '837', '843', '797', '728', '772', '803', '823', '705', '820', '853', '824', '745', '856', '697', '752', '821', '730', '709', '849', '777', '719', '737', '695', '755', '845', '817', '693', '836', '701', '716', '747', '731', '774', '770', '718', '834', '760', '800', '792', '720', '781', '706', '808', '713', '838', '694', '764', '847', '819', '688', '807', '708', '840', '773', '844', '698', '724', '810', '778', '780', '766', '814', '809', '687', '828', '830', '754', '739', '827', '726', '815', '758', '787', '798', '779', '835', '696', '703', '790', '741', '793', '812', '805', '3677', '3721', '3880', '3454', '1085', '3592', '3521', '3830', '3689', '3948', '3586', '2439', '2531', '2185', '2254', '2548', '2461', '2558', '2375', '2219', '2217', '2621', '3006', '2767', '2722', '2964', '3401', '2707', '3270', '2808', '3338', '2926', '3376', '2842', '2975', '3408', '2857', '3425', '3427', '3421', '3121', '2980', '3157', '3370', '3094', '3133', '3328', '3159', '3402', '3031', '3429', '4006'], 'circle5': ['23', '631', '584', '602', '639', '678', '682', '660', '616', '679', '509', '419', '554', '469', '477', '485', '516', '424', '397', '551', '381', '380', '518', '389', '435', '505', '563', '459', '486', '457', '357', '1231', '1060', '1727', '1099', '1227', '1158', '1891', '1635', '1423', '1691', '1120', '1413', '1115', '1215', '1436', '1899', '1143', '1381', '1682', '1257', '1872', '1036', '1018', '1875', '1379', '1418', '1859', '1261', '1636', '1828', '1808', '1448', '1591', '971', '1515', '1848', '1015', '879', '870', '858', '871', '881', '866', '895', '705', '851', '698', '828', '798', '3721', '3962', '3566', '3456', '3551', '3948', '3586', '2567', '2026', '2191', '2153', '2498', '1959', '2893', '2858', '2736', '2762', '2841', '3221', '3389', '3327', '3248', '2804', '3190', '2771', '2954', '2781', '3424', '3214', '2898', '3383', '2836', '3275', '4035'], 'circle6': ['337', '289', '93', '17', '111', '52', '137', '343', '192', '35', '326', '310', '214', '32', '115', '321', '209', '312', '41', '20', '622', '631', '621', '611', '596', '636', '584', '680', '625', '619', '620', '609', '588', '618', '573', '629', '666', '603', '597', '637', '672', '612', '602', '589', '579', '639', '664', '678', '575', '685', '623', '644', '592', '682', '684', '574', '617', '626', '641', '655', '605', '601', '653', '630', '654', '598', '107', '590', '677', '674', '616', '633', '483', '679', '638', '422', '663', '657', '198', '501', '476', '454', '351', '441', '364', '564', '399', '393', '447', '358', '526', '1539', '1579', '1642', '1852', '1317', '1585', '1736', '1554', '1603', '1572', '946', '1553', '1191', '1666', '1547', '1288', '1494', '929', '1722', '990', '1329', '1050', '1048', '1805', '1182', '1799', '983', '1195', '1594', '1144', '1092', '1112', '927', '925', '1600', '1146', '1597', '1584', '1851', '1198', '1435', '1619', '1181', '1184', '1107', '1724', '1845', '950', '1344', '1523', '1054', '1836', '1140', '1593', '1827', '1752', '1522', '1708', '1367', '1377', '1608', '1519', '1116', '1126', '1641', '1842', '1726', '1174', '1026', '1088', '1087', '1219', '952', '1073', '1398', '1735', '980', '1447', '951', '1620', '1823', '1132', '1039', '1272', '1789', '1678', '1613', '1612', '1361', '1411', '1761', '1793', '1669', '1172', '1135', '1886', '1557', '1098', '1819', '1540', '1480', '1750', '967', '1321', '1391', '1034', '1422', '1902', '1049', '1477', '982', '1151', '1161', '1029', '1561', '1271', '1484', '1559', '1178', '1697', '1791', '1683', '1101', '947', '1803', '978', '1517', '1588', '1817', '1293', '1008', '1684', '1509', '1653', '1278', '1710', '961', '1637', '922', '1242', '920', '1753', '1846', '1290', '1058', '1795', '1470', '1076', '934', '1250', '1676', '1617', '1351', '1614', '1883', '1369', '1700', '991', '1719', '1535', '1746', '921', '1352', '1441', '1405', '1376', '1555', '1460', '1123', '1416', '1467', '1644', '1843', '1079', '1006', '1074', '1513', '1792', '1449', '1450', '1085', '1458', '1305', '966', '1128', '1774', '1867', '1757', '1380', '414', '1888', '1730', '1420', '1758', '1145', '1086', '1485', '1149', '1737', '1800', '1675', '1003', '1714', '1056', '916', '996', '1075', '1769', '1589', '1796', '1238', '1431', '1124', '1471', '1330', '1702', '1668', '1721', '906', '1544', '1610', '1390', '1084', '1243', '1865', '1863', '1765', '1521', '1201', '926', '1534', '1701', '1698', '1532', '1402', '1663', '1360', '1809', '1301', '1528', '1211', '1209', '1900', '1365', '1835', '1291', '1652', '1689', '1813', '1838', '1505', '1089', '1165', '1524', '1445', '1283', '1659', '1312', '1214', '1623', '1622', '1327', '1267', '1269', '923', '1580', '1816', '1779', '1251', '1197', '1861', '1558', '1193', '1017', '1375', '1068', '1643', '1055', '1069', '1516', '1877', '1639', '1811', '1491', '1520', '1328', '1551', '1031', '1717', '1028', '1833', '1688', '1421', '1059', '1563', '1626', '1564', '1537', '1723', '1265', '908', '1110', '1339', '1384', '1334', '1621', '1077', '862', '776', '857', '783', '823', '705', '745', '697', '818', '774', '800', '781', '764', '708', '789', '698', '721', '809', '811', '805', '3895', '1923', '1947', '2134', '3028', '3368', '2714', '3155', '3063', '2933', '3012', '2805', '2983', '2922', '2997', '2935', '3999', '4028', '4005', '3996', '4031', '4018', '3994', '4002', '4032', '3991', '3981', '3998', '4036', '4023', '3997', '4011', '4019', '594', '4027', '4008', '4020', '4034'], 'circle7': ['225', '46', '378', '449', '513', '405', '533', '504', '426', '421', '433', '510', '369', '455', '563', '543', '407', '471', '561', '350', '1658', '1001', '968', '1337', '1897', '1439', '1395', '1562', '922', '1821', '1133', '1814', '912', '1442', '1038', '1769', '1618', '1657', '1062', '1818', '1301', '1012', '1885', '899', '1780', '908', '1262', '876', '889', '801', '744', '785', '846', '841', '749', '759', '739', '815', '775', '3544', '3775', '2125', '2543', '2502', '2224', '2516', '2519', '2582', '2649', '2298', '2643', '2295', '2163', '3167', '2921', '3236', '3048', '2758', '2747', '3393', '3323', '3256', '2878', '2795', '3050', '3196', '2675', '3156', '3107', '2918', '1726', '2996', '2955', '3136', '2831', '2816', '3369', '2723', '3027', '3279', '2950', '3337', '3380', '3043', '3307', '2844', '3276', '3253', '3409', '3404', '3075', '3067', '2865', '3151', '3249', '2843', '2772', '2751', '2686', '2932', '2718', '3358', '2730', '3171', '3032', '3365', '3312', '2744', '3134', '3140', '3199', '2702', '3385', '3093', '3418', '2715', '3264', '2768', '2665', '2871', '2801', '2984', '3189', '2914', '2825', '3160', '3144', '2668', '3087', '3187', '3255', '2780', '3219', '3395', '3326', '3124', '3984'], 'circle8': ['282', '378', '449', '412', '439', '446', '405', '475', '520', '568', '502', '478', '431', '420', '461', '436', '491', '544', '570', '522', '534', '397', '391', '367', '414', '369', '525', '455', '548', '531', '563', '492', '523', '490', '527', '474', '545', '541', '376', '471', '561', '425', '1097', '938', '1137', '1118', '1319', '1747', '903', '1548', '1424', '1533', '1468', '1733', '1568', '992', '1378', '1232', '1798', '1363', '958', '963', '1784', '910', '1186', '1837', '1371', '1895', '1216', '1601', '1787', '901', '1880', '1629', '1452', '1333', '1314', '872', '867', '776', '877', '874', '873', '887', '885', '823', '705', '856', '697', '704', '752', '836', '747', '774', '770', '841', '706', '749', '708', '698', '750', '809', '811', '739', '757', '827', '815', '758', '798', '740', '790', '775', '3690', '3834', '3617', '2283', '2099', '2304', '2358', '2247', '2246', '2555', '2230', '2461', '2052', '2941', '1642', '3329', '1666', '2727', '990', '3072', '2734', '3057', '2700', '3242', '3342', '2895', '3407', '2678', '3164', '107', '3024', '1726', '3302', '2688', '3263', '3373', '3099', '1656', '2791', '3097', '2667', '2859', '2822', '2690', '3340', '2848', '3161', '3431', '3349', '3278', '2802', '3020', '2784', '3215', '2764', '2813', '3178', '2971', '3015', '2677', '2968', '3330', '2752', '1450', '2883', '3331', '2998', '1758', '3375', '3374', '2958', '3211', '2826', '2803', '2999', '3110', '3222', '2868', '1419', '2693', '3009', '3319', '1534', '3305', '3165', '3011', '3432', '2818', '3088', '3245', '2903', '2760', '3343', '1505', '2847', '2819', '2876', '2735', '2923', '3258', '2812', '2882', '3138', '3230', '3292', '3335', '2780', '3205', '2790', '2856', '3361', '3988', '4030', '4026', '4021'], 'circle9': ['336', '204', '74', '206', '292', '146', '154', '164', '279', '73', '415', '445', '473', '560', '463', '362', '535', '542', '371', '495', '460', '413', '448', '697', '734', '722', '772', '788', '796', '725', '784', '853', '729', '824', '707', '697', '704', '756', '752', '849', '848', '777', '719', '695', '755', '845', '817', '701', '771', '716', '769', '744', '785', '768', '782', '731', '813', '799', '818', '774', '770', '746', '732', '760', '846', '802', '800', '699', '854', '792', '702', '781', '713', '723', '694', '764', '733', '826', '847', '714', '688', '786', '708', '762', '789', '698', '738', '724', '691', '712', '721', '690', '806', '810', '751', '780', '766', '814', '822', '742', '828', '830', '850', '727', '753', '827', '726', '815', '842', '798', '711', '794', '833', '736', '835', '795', '839', '696', '816', '743', '689', '791', '829', '767', '805', '3830', '2523', '3105', '3141', '2902', '3354', '3053', '3271', '2930', '3131', '3216', '3251', '3181', '3372', '2732', '3200', '2788', '3180', '3122', '2799', '2861', '2776', '3218', '3983', '3992', '4033', '4017', '4000', '3986'], 'circle10': ['42', '14', '216', '2', '468', '411', '498', '453', '862', '868', '871', '865', '860', '810', '717', '852', '798', '855', '3763', '2456', '2047', '2455', '2543', '2382', '2204', '2541', '2437', '2241', '1985', '2142', '563', '2042', '2470', '1923', '1947', '2344', '2421', '2174', '1465', '2266', '2134', '2034', '428', '2111', '2096', '2468', '3173', '2915', '2866', '3990', '4007', '4016', '4025'], 'circle11': ['324', '265', '54', '161', '298', '76', '165', '199', '203', '13', '66', '113', '97', '252', '313', '238', '158', '240', '331', '332', '134', '218', '118', '235', '311', '151', '308', '212', '70', '211', '549', '378', '526', '412', '536', '439', '446', '398', '419', '513', '475', '520', '458', '438', '388', '553', '373', '565', '514', '558', '415', '508', '497', '432', '493', '445', '537', '431', '473', '173', '198', '560', '463', '484', '494', '451', '420', '461', '392', '436', '506', '362', '544', '517', '535', '462', '570', '352', '390', '417', '363', '421', '400', '542', '487', '402', '391', '566', '395', '512', '450', '500', '353', '365', '427', '371', '482', '569', '409', '495', '559', '452', '366', '567', '414', '408', '511', '521', '456', '360', '465', '394', '428', '525', '460', '563', '488', '492', '538', '523', '524', '527', '416', '507', '413', '423', '374', '404', '545', '387', '368', '34', '496', '515', '376', '448', '503', '483', '434', '430', '370', '479', '471', '561', '425', '556', '444', '747', '705', '725', '771', '818', '802', '702', '714', '691', '806', '822', '850', '839', '791', '805', '3844', '3893', '3799', '3612', '3675', '3836', '3476', '3759', '3837', '2176', '2186', '2031', '2310', '2419', '2209', '1964', '2557', '2641', '2318', '1923', '2038', '2525', '2416', '2133', '2610', '2325', '2211', '2296', '2972', '2889', '3311', '2982', '2699', '3309', '3283', '2670', '3314', '3325', '2879', '3423', '2834', '2703', '3318', '2959', '3382', '3008', '4001', '4029'], 'circle12': ['278', '432', '451', '420', '421', '569', '465', '563', '416', '430', '883', '860', '783', '797', '728', '803', '705', '763', '820', '745', '821', '730', '849', '719', '737', '755', '836', '716', '747', '799', '770', '841', '720', '781', '808', '826', '708', '698', '814', '809', '739', '827', '758', '787', '798', '790', '741', '793', '832', '3690', '3494', '3617', '2506', '2573', '2426', '2561', '2348', '2098', '2137', '2979', '3071', '3328', '4012'], 'circle13': ['138', '131', '68', '143', '86', '526', '449', '412', '489', '475', '396', '458', '533', '438', '568', '388', '361', '528', '553', '565', '514', '558', '497', '432', '504', '354', '547', '463', '506', '544', '481', '372', '519', '570', '355', '390', '363', '402', '397', '566', '470', '450', '500', '367', '482', '452', '521', '510', '360', '555', '455', '548', '460', '531', '488', '543', '530', '557', '359', '523', '403', '410', '507', '474', '374', '545', '496', '515', '480', '541', '376', '546', '370', '418', '382', '562', '444', '783', '717', '837', '843', '728', '772', '823', '705', '824', '745', '856', '697', '801', '821', '709', '719', '737', '755', '836', '716', '747', '800', '702', '781', '808', '749', '838', '694', '708', '789', '698', '852', '780', '814', '809', '822', '828', '827', '815', '758', '787', '798', '779', '835', '790', '791', '812', '805', '855', '3593', '3810', '3506', '3558', '3758', '1956', '2558', '2528', '2425', '3061', '3081', '3398', '3405', '2957', '3308', '3011', '2685', '3266', '4038'], 'circle14': ['175', '227', '3791', '3680', '3825', '3861', '3593', '3786', '3810', '3568', '3771', '3506', '3766', '3677', '3539', '3721', '3893', '3564', '3895', '3534', '3566', '3718', '3803', '3823', '3551', '3612', '3945', '3454', '3690', '3623', '3770', '3834', '3645', '3947', '3675', '3836', '3759', '3554', '3819', '3705', '3558', '3555', '3494', '3777', '3843', '3782', '3604', '3689', '3617', '3758', '3763', '3719', '2142', '2512', '2560', '2134', '2777', '3294', '2754', '2729', '2676', '2794', '2766', '3227', '2906', '2809', '2759', '2773', '3137', '3220', '2905', '2862', '2948', '3193', '3114', '3084', '3384', '2698', '2749', '2757', '2931', '2994', '3303', '3142', '2666', '3104', '3392', '3228', '3250', '3243', '3085', '2663', '3362', '2907', '2731', '2890', '2851', '2815', '2827', '3339', '2680', '2706', '2669', '3095', '2837', '3348', '3026', '2908', '2925', '3300', '2987', '2741', '3010', '3153', '3213', '2888', '3044', '2726', '3045', '2944', '2806', '2943', '2689', '3414', '3184', '3387', '2874', '2769', '2873', '3399', '3014', '3388', '3195', '3108', '3363', '3435', '2920', '2867', '3119', '2807', '3123', '2899', '3158', '2961', '3033', '3394', '2877', '2927', '2928', '3056', '3135', '2755', '3428', '3430', '3029', '3400', '2940', '2695', '3237', '3301', '2953', '2864', '3293', '2952', '2956', '3234', '2850', '3417', '3129', '2909', '2763', '2854', '2681', '2966', '3143', '2821', '2738', '2705', '2896', '2756', '3436', '2945', '2832', '2786', '2985', '3040', '2800', '2911', '2839', '2743', '2884', '3364', '3117', '3042', '3231', '2761', '3324', '3286', '3092', '3000', '3090', '2978', '2750', '2872', '2897', '3163', '2694', '2835', '2683', '3202', '2852', '2673', '3078', '3052', '3183', '2887', '2988', '3226', '2912', '2782', '3333', '2853', '3055', '2810', '3257', '3269', '3098', '2969', '2746', '2880', '2910', '3174', '2913', '3390', '3030', '2917', '3232', '2993', '2946', '3315', '3064', '3065', '3004', '2789', '3023', '3139', '3080', '3229', '3317', '3073', '2974', '2710', '2798', '3238', '3304', '3166', '2679', '3096', '3433', '2745', '3284', '2929', '2960', '2981', '3413', '2924', '3426', '2963', '3047', '3130', '3025', '2967', '3022', '3036', '2919', '2916', '3059', '2986', '2664', '3054', '2891', '4014'], 'circle15': ['108', '208', '251', '125', '325', '176', '133', '276', '198', '271', '288', '316', '96', '246', '347', '121', '7', '3', '170', '323', '56', '338', '23', '109', '141', '67', '345', '55', '114', '122', '50', '304', '318', '65', '15', '45', '317', '322', '26', '31', '168', '124', '285', '255', '129', '40', '172', '274', '95', '207', '128', '339', '233', '1', '294', '280', '224', '269', '256', '60', '328', '189', '146', '77', '196', '64', '286', '89', '22', '39', '190', '281', '117', '38', '213', '135', '197', '291', '21', '315', '261', '47', '36', '186', '169', '342', '49', '9', '16', '185', '219', '123', '72', '309', '103', '157', '277', '105', '139', '148', '248', '341', '62', '98', '63', '297', '242', '10', '152', '236', '308', '82', '87', '136', '200', '183', '247', '290', '303', '319', '6', '314', '104', '127', '25', '69', '171', '119', '79', '340', '301', '188', '142', '3791', '3615', '3553', '3766', '3482', '3753', '3521', '3705', '3470', '3907', '2336', '2283', '1949', '2456', '2458', '2125', '2605', '2455', '2424', '2017', '1915', '2332', '2382', '2204', '2221', '2642', '2120', '1999', '2501', '2437', '2523', '2183', '2224', '2587', '2598', '2142', '1996', '2542', '2581', '2042', '1922', '2470', '2232', '2023', '2316', '2649', '2156', '2421', '2565', '2062', '2328', '2577', '2168', '2114', '2231', '1465', '2266', '2041', '2096', '2243', '2949', '3128', '1171', '3126', '2886', '3083', '3310', '3322', '3066', '3336', '3982'], 'circle16': ['251', '94', '330', '5', '34', '299', '254', '24', '180', '194', '281', '101', '266', '135', '197', '173', '36', '9', '85', '57', '37', '258', '309', '80', '139', '202', '187', '249', '58', '127', '48', '92', '3912', '3567', '3819', '2439', '2113', '2100', '2548', '2375', '2217', '2621', '2774', '3074', '2792', '2691', '2817', '3127', '3282', '3147', '3055', '3037', '4003', '3995', '3993', '4004', '3985'], 'circle17': ['90', '52', '172', '126', '294', '179', '145', '105', '210', '3518', '3477', '2521', '2560', '2182', '2081'], 'circle18': ['177', '3680', '3810', '3506', '3718', '3947', '3758', '2298', '2230', '2577'], 'circle19': ['93', '33', '333', '17', '137', '44', '343', '326', '214', '115', '312', '41', '20', '3721', '3962', '3456', '1085', '3938', '3633', '3586', '2283'], 'circle20': ['244', '282', '262', '293', '220', '174', '3555', '2550', '2086', '2030', '1925', '2108', '1918', '2287', '2184', '2369', '2476', '2164', '2262', '2556', '2553', '2593', '2579', '2045', '2464', '1989', '2443', '2462', '2308', '2190', '2477', '2586', '1993', '2121', '2506', '2613', '2507', '2021', '2543', '1962', '2073', '2408', '2391', '2104', '2611', '2123', '2575', '2311', '2374', '2276', '2573', '2334', '2179', '2356', '2484', '2428', '2046', '2521', '2020', '2084', '2638', '2005', '2093', '2092', '2060', '2395', '2078', '2572', '2306', '2549', '2200', '2063', '2350', '2055', '2418', '2607', '2069', '2500', '1938', '2261', '2393', '2240', '1985', '2559', '2352', '2339', '2140', '2387', '2532', '2154', '2112', '2040', '2142', '2212', '2275', '1942', '2591', '2139', '2118', '2172', '2536', '2542', '2469', '2324', '2363', '2237', '1963', '2615', '2551', '1979', '2407', '1917', '1946', '2624', '2655', '2489', '2499', '2257', '2512', '2561', '1953', '2210', '2386', '2218', '2233', '2625', '2122', '2495', '2546', '2381', '1986', '2131', '2077', '2229', '1943', '2442', '2056', '2019', '2560', '1969', '2290', '2485', '2165', '2088', '2392', '2410', '2348', '2584', '2043', '2347', '2563', '2271', '1984', '2526', '2216', '2258', '2064', '2492', '2244', '2300', '2353', '2504', '2630', '2090', '2590', '2430', '2278', '2446', '2103', '2478', '2520', '2329', '2136', '2600', '2189', '1929', '2423', '2007', '2578', '2234', '2288', '2115', '2253', '1971', '2604', '2449', '2147', '2606', '2414', '1983', '2299', '1997', '2266', '2293', '2033', '2074', '2098', '2602', '2220', '1966', '2067', '2654', '2460', '2124', '2109', '2048', '1941', '2201', '2267', '2576', '2619', '2564', '2409', '2482', '2623', '2309', '2206', '2539', '2631', '2370', '2359', '2059', '2404', '2326', '2574', '2037', '2601', '2646', '2095', '2188', '2433', '2307', '2083', '2323', '2354', '2376', '2340', '2150', '2468'], 'circle21': ['12', '3834', '2394', '2282', '2072', '2110', '2458', '2053', '2075', '2294', '2054', '2479', '2177', '2384', '2509', '2221', '2377', '2652', '2501', '2003', '2451', '2161', '2511', '2333', '2438', '2002', '2222', '563', '2415', '1981', '2280', '1947', '1939', '2252', '2344', '2396', '2132', '2235', '2432', '2062', '2328', '2568', '2434', '2081', '2301', '2327', '2399', '428', '1970', '1967', '2111', '58', '2274', '2603', '2101', '1959', '2199', '2096', '2617', '2390', '2243', '2537'], 'circle22': ['267', '3615', '3553', '3677', '3705', '2283'], 'circle23': ['28', '149', '162', '3963', '2283', '2431', '2321', '2114', '2034', '2260', '1952'], 'circle24': ['3939', '3948', '2106'], 'circle25': ['3979', '3544', '3548', '3803', '3660', '3775', '3592', '3843', '3674', '2106'], 'circle26': ['3633', '3586', '2241', '1985', '2512', '2062', '1959'], 'circle27': ['3518', '2398', '2320', '2259', '2622', '2349', '2426', '2513', '2444', '2486', '2255', '2170', '2515', '2401', '1992', '2399', '2650', '2466', '2076', '1988', '2376'], 'circle28': ['3677', '2468'], 'circle29': ['3861', '2057', '2385', '1987', '1959', '2215'], 'circle30': ['3623', '563', '428', '1967', '58'], 'circle31': ['3772', '3779', '3477', '1980', '2121', '1958', '1957', '2365', '2395', '2061', '2218', '2518', '1973', '1972', '1943', '2225', '2376'], 'circle32': ['2443', '2595', '2457', '2527', '2483', '2588'], 'circle33': ['2629', '2042', '2436', '2292', '2635', '2278', '2302', '2544', '2463', '136', '2143', '2128'], 'circle34': ['2535', '2481', '2570', '2094', '1961', '2245', '2126', '2301', '2167', '2487'], 'circle35': ['2598', '1577', '2292', '2268', '2518', '1961', '2491', '2081', '1465', '2149', '2128'], 'circle36': ['2402', '2099', '2605', '2413', '1956', '1915', '2066', '2517', '2422', '2177', '2263', '2371', '2256', '2057', '2529', '2026', '2445', '2502', '2431', '2534', '2082', '2524', '2531', '2227', '2614', '2454', '2349', '2400', '2113', '2513', '2358', '2632', '2441', '2129', '2389', '2010', '2345', '2497', '2450', '2100', '2065', '2291', '2355', '2251', '2252', '2298', '2036', '2270', '1987', '2312', '1977', '2249', '2448', '2295', '2628', '2230', '2051', '2544', '2568', '2169', '2514', '2288', '2214', '2130', '2530', '2449', '2067', '2265', '1952', '2137', '2488', '2528', '2215', '1913', '2128'], 'circle37': ['2003', '2222', '2415', '2318', '1970'], 'circle38': ['2394', '2367', '2336', '2282', '2138', '2283', '2072', '2629', '2398', '2458', '2571', '2053', '1920', '2125', '2047', '2176', '2294', '2533', '2054', '2567', '2543', '2304', '2332', '2194', '2592', '2250', '1718', '2384', '2642', '2594', '2187', '2377', '2148', '2241', '2445', '2183', '2451', '2224', '2068', '2511', '2419', '2372', '2333', '2259', '2598', '2209', '1945', '2438', '2516', '2597', '2475', '2042', '2608', '2010', '2087', '2247', '2519', '2246', '2471', '2582', '2436', '2191', '2223', '2273', '1577', '2153', '2589', '2555', '2292', '2635', '1955', '2280', '1923', '2028', '1947', '2268', '2038', '2151', '2649', '2135', '2196', '2279', '2347', '2203', '2289', '2416', '2643', '1954', '2319', '2351', '2102', '2254', '2420', '2473', '2472', '2328', '1932', '2302', '2189', '2498', '2117', '2169', '2007', '2174', '2491', '2463', '2461', '2081', '2163', '1994', '2071', '1465', '2032', '136', '2052', '2338', '2134', '2399', '2343', '2111', '2274', '2315', '1941', '2127', '2199', '2133', '1948', '2616', '2610', '2143', '2149', '2039', '2496'], 'circle39': ['2344', '2289', '2328', '2468'], 'circle40': ['2054', '2642', '2653', '2241', '2598', '1945', '2273', '2609', '2151', '2102', '2032', '2052', '2465', '2144', '2599'], 'circle41': ['2367', '2402', '2440', '1949', '2456', '2119', '2634', '2411', '2452', '2540', '2047', '2176', '2455', '2049', '2286', '2186', '2424', '2181', '2080', '2017', '1915', '2397', '2031', '1933', '2382', '2178', '2204', '1937', '2642', '2238', '2371', '2120', '2160', '2029', '2373', '2541', '2314', '2437', '2403', '2523', '2008', '2534', '2082', '2342', '2227', '2310', '2587', '2614', '2419', '2175', '2162', '2277', '2209', '2321', '2228', '2013', '2569', '2105', '1936', '2158', '2357', '2322', '1990', '1996', '1964', '2557', '2632', '2581', '1922', '2562', '2129', '2412', '2566', '2570', '1930', '2360', '2152', '2379', '2345', '2656', '2318', '2089', '2366', '2155', '2497', '2362', '2659', '2193', '2141', '2242', '1923', '1934', '2232', '2038', '2023', '2316', '2251', '2236', '2525', '2035', '2637', '2272', '2085', '2341', '1965', '1944', '2156', '2289', '2416', '2036', '2335', '2618', '2317', '2361', '2106', '2421', '2388', '2503', '2126', '1960', '2565', '2448', '2313', '2406', '2580', '2628', '2473', '2612', '2474', '2182', '2577', '2168', '2051', '2498', '2197', '2117', '2174', '2114', '2231', '2130', '2034', '2041', '2260', '1926', '2070', '2480', '2145', '2603', '2173', '2091', '2133', '2610', '2325', '2146', '2248', '2405', '2331', '2211', '1975', '2296', '1978'], 'circle42': ['2250', '2384', '2529', '2531', '2372', '2400', '2389', '2355', '1976', '2203', '2312', '2319', '2616', '1913'], 'circle43': ['2598', '2459', '2470', '2134'], 'circle44': ['2586', '2073', '2575', '2229', '1984', '2244', '2619', '2433'], 'circle45': ['2453', '2505', '1974', '2208', '2651']}\n",
            "[1 1 1 ... 0 0 0]\n",
            "4167\n",
            "Number of unique nodes: 3959\n"
          ]
        }
      ]
    },
    {
      "cell_type": "code",
      "source": [
        "import torch\n",
        "import torch.nn as nn\n",
        "import torch.optim as optim\n",
        "from torch_geometric.data import Data\n",
        "from torch_geometric.nn import GCNConv\n",
        "from torch.nn import Linear\n",
        "\n",
        "# Convert the edges list to a PyTorch Geometric data object\n",
        "edge_index = torch.tensor(edges, dtype=torch.long).t().contiguous()\n",
        "\n",
        "# Convert the features and labels to PyTorch tensors\n",
        "x = torch.tensor(features, dtype=torch.float)\n",
        "y = torch.tensor(labels, dtype=torch.long)\n",
        "\n",
        "\n",
        "# Create a PyTorch Geometric data object\n",
        "data = Data(x=x, edge_index=edge_index, y=y)\n",
        "\n",
        "# Define the GNN model\n",
        "class GNNModel(nn.Module):\n",
        "    def __init__(self, input_dim, hidden_dim, output_dim):\n",
        "        super(GNNModel, self).__init__()\n",
        "        self.conv1 = GCNConv(input_dim, hidden_dim)\n",
        "        self.conv2 = GCNConv(hidden_dim, hidden_dim)\n",
        "        self.conv3 = GCNConv(hidden_dim, hidden_dim)\n",
        "        self.conv4 = GCNConv(hidden_dim, hidden_dim)\n",
        "        self.conv5 = GCNConv(hidden_dim, hidden_dim)\n",
        "        self.out = Linear(hidden_dim, output_dim)\n",
        "\n",
        "\n",
        "    def forward(self, x, edge_index):\n",
        "\n",
        "        # First Message Passing Layer (Transformation)\n",
        "        x = self.conv1(x, edge_index)\n",
        "        x = x.relu()\n",
        "        x = F.dropout(x, p=0.5, training=self.training)\n",
        "\n",
        "        # Second Message Passing Layer\n",
        "        x = self.conv2(x, edge_index)\n",
        "        x = x.relu()\n",
        "        x = F.dropout(x, p=0.5, training=self.training)\n",
        "\n",
        "        x = self.conv3(x, edge_index)\n",
        "        x = x.relu()\n",
        "        x = F.dropout(x, p=0.5, training=self.training)\n",
        "        x = self.conv4(x, edge_index)\n",
        "        x = x.relu()\n",
        "        x = F.dropout(x, p=0.5, training=self.training)\n",
        "        x = self.conv5(x, edge_index)\n",
        "        x = x.relu()\n",
        "        x = F.dropout(x, p=0.5, training=self.training)\n",
        "        # Output layer\n",
        "        x = F.softmax(self.out(x), dim=1)\n",
        "        return x\n",
        "\n",
        "# Set the dimensions for the GNN model\n",
        "input_dim = x.shape[1]\n",
        "hidden_dim = 128\n",
        "output_dim = len(l)\n",
        "\n",
        "# Create an instance of the GNN model\n",
        "model = GNNModel(input_dim, hidden_dim, output_dim)\n",
        "\n",
        "# Define the loss function and optimizerfrom torch.nn import Linear\n",
        "criterion = nn.CrossEntropyLoss()\n",
        "optimizer = optim.Adam(model.parameters(), lr=0.001)\n",
        "\n",
        "# Train the GNN model\n",
        "def train(model, data, optimizer, criterion, num_epochs):\n",
        "    model.train()\n",
        "\n",
        "    for epoch in range(num_epochs):\n",
        "        optimizer.zero_grad()\n",
        "        out = model(data.x, data.edge_index)\n",
        "        loss = criterion(out[data.train_mask], data.y[data.train_mask])\n",
        "        loss.backward()\n",
        "        optimizer.step()\n",
        "\n",
        "        # Perform evaluation on the validation set\n",
        "        model.eval()\n",
        "        with torch.no_grad():\n",
        "            logits = model(data.x, data.edge_index)\n",
        "            pred = logits.argmax(dim=1)\n",
        "            correct = pred[data.val_mask] == data.y[data.val_mask]\n",
        "            val_acc = int(correct.sum()) / int(data.val_mask.sum())\n",
        "\n",
        "        print(f'Epoch: {epoch+1}, Loss: {loss.item()}, Val Acc: {val_acc}')\n",
        "\n",
        "# Split the data into training, validation, and testing masks\n",
        "num_nodes = len(data.y)\n",
        "train_mask = torch.zeros(num_nodes, dtype=torch.bool)\n",
        "val_mask = torch.zeros(num_nodes, dtype=torch.bool)\n",
        "test_mask = torch.zeros(num_nodes, dtype=torch.bool)\n",
        "\n",
        "# Assuming 70% training, 15% validation, and 15% testing split\n",
        "train_mask[:int(num_nodes*0.7)] = True\n",
        "val_mask[int(num_nodes*0.7):int(num_nodes*0.85)] = True\n",
        "test_mask[int(num_nodes*0.85):] = True\n",
        "\n",
        "data.train_mask = train_mask\n",
        "data.val_mask = val_mask\n",
        "data.test_mask = test_mask\n",
        "\n",
        "# Train the model\n",
        "num_epochs = 100\n",
        "train(model, data, optimizer, criterion, num_epochs)\n",
        "\n",
        "# Evaluate the model on the testing set\n",
        "model.eval()\n",
        "with torch.no_grad():\n",
        "    logits = model(data.x, data.edge_index)\n",
        "    pred = logits.argmax(dim=1)\n",
        "    correct = pred[data.test_mask] == data.y[data.test_mask]\n",
        "    test_acc = int(correct.sum()) / int(data.test_mask.sum())\n",
        "\n",
        "print(f'Test Acc: {test_acc}')\n"
      ],
      "metadata": {
        "colab": {
          "base_uri": "https://localhost:8080/",
          "height": 0
        },
        "id": "dMlQJI73DPxT",
        "outputId": "727566f4-78af-4d5e-b6cb-ac52ef1bc0f4"
      },
      "execution_count": 39,
      "outputs": [
        {
          "output_type": "stream",
          "name": "stdout",
          "text": [
            "Epoch: 1, Loss: 3.827887773513794, Val Acc: 0.8128\n",
            "Epoch: 2, Loss: 3.8275399208068848, Val Acc: 0.8128\n",
            "Epoch: 3, Loss: 3.827157735824585, Val Acc: 0.8128\n",
            "Epoch: 4, Loss: 3.826672315597534, Val Acc: 0.8128\n",
            "Epoch: 5, Loss: 3.826026201248169, Val Acc: 0.8128\n",
            "Epoch: 6, Loss: 3.8251664638519287, Val Acc: 0.8128\n",
            "Epoch: 7, Loss: 3.824018716812134, Val Acc: 0.8128\n",
            "Epoch: 8, Loss: 3.8224806785583496, Val Acc: 0.8128\n",
            "Epoch: 9, Loss: 3.820396661758423, Val Acc: 0.8128\n",
            "Epoch: 10, Loss: 3.817521095275879, Val Acc: 0.8128\n",
            "Epoch: 11, Loss: 3.8134765625, Val Acc: 0.8128\n",
            "Epoch: 12, Loss: 3.8076674938201904, Val Acc: 0.8128\n",
            "Epoch: 13, Loss: 3.7991392612457275, Val Acc: 0.8128\n",
            "Epoch: 14, Loss: 3.786371946334839, Val Acc: 0.8128\n",
            "Epoch: 15, Loss: 3.76709246635437, Val Acc: 0.8128\n",
            "Epoch: 16, Loss: 3.7381234169006348, Val Acc: 0.8128\n",
            "Epoch: 17, Loss: 3.6961469650268555, Val Acc: 0.8128\n",
            "Epoch: 18, Loss: 3.6395466327667236, Val Acc: 0.8128\n",
            "Epoch: 19, Loss: 3.571321964263916, Val Acc: 0.8128\n",
            "Epoch: 20, Loss: 3.5004897117614746, Val Acc: 0.8128\n",
            "Epoch: 21, Loss: 3.43890118598938, Val Acc: 0.8128\n",
            "Epoch: 22, Loss: 3.394707441329956, Val Acc: 0.8128\n",
            "Epoch: 23, Loss: 3.3678412437438965, Val Acc: 0.8128\n",
            "Epoch: 24, Loss: 3.3532989025115967, Val Acc: 0.8128\n",
            "Epoch: 25, Loss: 3.3460466861724854, Val Acc: 0.8128\n",
            "Epoch: 26, Loss: 3.3426260948181152, Val Acc: 0.8128\n",
            "Epoch: 27, Loss: 3.3410918712615967, Val Acc: 0.8128\n",
            "Epoch: 28, Loss: 3.340426445007324, Val Acc: 0.8128\n",
            "Epoch: 29, Loss: 3.3401424884796143, Val Acc: 0.8128\n",
            "Epoch: 30, Loss: 3.3400208950042725, Val Acc: 0.8128\n",
            "Epoch: 31, Loss: 3.3399696350097656, Val Acc: 0.8128\n",
            "Epoch: 32, Loss: 3.3399486541748047, Val Acc: 0.8128\n",
            "Epoch: 33, Loss: 3.339939832687378, Val Acc: 0.8128\n",
            "Epoch: 34, Loss: 3.3399364948272705, Val Acc: 0.8128\n",
            "Epoch: 35, Loss: 3.339935541152954, Val Acc: 0.8128\n",
            "Epoch: 36, Loss: 3.339935541152954, Val Acc: 0.8128\n",
            "Epoch: 37, Loss: 3.339935064315796, Val Acc: 0.8128\n",
            "Epoch: 38, Loss: 3.339935541152954, Val Acc: 0.8128\n",
            "Epoch: 39, Loss: 3.339935779571533, Val Acc: 0.8128\n",
            "Epoch: 40, Loss: 3.3399364948272705, Val Acc: 0.8128\n",
            "Epoch: 41, Loss: 3.3399364948272705, Val Acc: 0.8128\n",
            "Epoch: 42, Loss: 3.3399364948272705, Val Acc: 0.8128\n",
            "Epoch: 43, Loss: 3.3399367332458496, Val Acc: 0.8128\n",
            "Epoch: 44, Loss: 3.3399364948272705, Val Acc: 0.8128\n",
            "Epoch: 45, Loss: 3.3399367332458496, Val Acc: 0.8128\n",
            "Epoch: 46, Loss: 3.3399367332458496, Val Acc: 0.8128\n",
            "Epoch: 47, Loss: 3.3399367332458496, Val Acc: 0.8128\n",
            "Epoch: 48, Loss: 3.3399367332458496, Val Acc: 0.8128\n",
            "Epoch: 49, Loss: 3.3399367332458496, Val Acc: 0.8128\n",
            "Epoch: 50, Loss: 3.3399367332458496, Val Acc: 0.8128\n",
            "Epoch: 51, Loss: 3.339937210083008, Val Acc: 0.8128\n",
            "Epoch: 52, Loss: 3.339937210083008, Val Acc: 0.8128\n",
            "Epoch: 53, Loss: 3.339937210083008, Val Acc: 0.8128\n",
            "Epoch: 54, Loss: 3.339937210083008, Val Acc: 0.8128\n",
            "Epoch: 55, Loss: 3.339937210083008, Val Acc: 0.8128\n",
            "Epoch: 56, Loss: 3.339937210083008, Val Acc: 0.8128\n",
            "Epoch: 57, Loss: 3.339937210083008, Val Acc: 0.8128\n",
            "Epoch: 58, Loss: 3.339937210083008, Val Acc: 0.8128\n",
            "Epoch: 59, Loss: 3.339937210083008, Val Acc: 0.8128\n",
            "Epoch: 60, Loss: 3.339937210083008, Val Acc: 0.8128\n",
            "Epoch: 61, Loss: 3.339937210083008, Val Acc: 0.8128\n",
            "Epoch: 62, Loss: 3.339937210083008, Val Acc: 0.8128\n",
            "Epoch: 63, Loss: 3.339937210083008, Val Acc: 0.8128\n",
            "Epoch: 64, Loss: 3.339937210083008, Val Acc: 0.8128\n",
            "Epoch: 65, Loss: 3.339937210083008, Val Acc: 0.8128\n",
            "Epoch: 66, Loss: 3.339937210083008, Val Acc: 0.8128\n",
            "Epoch: 67, Loss: 3.339937210083008, Val Acc: 0.8128\n",
            "Epoch: 68, Loss: 3.339937210083008, Val Acc: 0.8128\n",
            "Epoch: 69, Loss: 3.339937210083008, Val Acc: 0.8128\n",
            "Epoch: 70, Loss: 3.339937210083008, Val Acc: 0.8128\n",
            "Epoch: 71, Loss: 3.339937210083008, Val Acc: 0.8128\n",
            "Epoch: 72, Loss: 3.339937210083008, Val Acc: 0.8128\n",
            "Epoch: 73, Loss: 3.339937210083008, Val Acc: 0.8128\n",
            "Epoch: 74, Loss: 3.339937210083008, Val Acc: 0.8128\n",
            "Epoch: 75, Loss: 3.339937210083008, Val Acc: 0.8128\n",
            "Epoch: 76, Loss: 3.339937210083008, Val Acc: 0.8128\n",
            "Epoch: 77, Loss: 3.339937210083008, Val Acc: 0.8128\n",
            "Epoch: 78, Loss: 3.339937210083008, Val Acc: 0.8128\n",
            "Epoch: 79, Loss: 3.339937210083008, Val Acc: 0.8128\n",
            "Epoch: 80, Loss: 3.339937210083008, Val Acc: 0.8128\n",
            "Epoch: 81, Loss: 3.339937210083008, Val Acc: 0.8128\n",
            "Epoch: 82, Loss: 3.339937210083008, Val Acc: 0.8128\n",
            "Epoch: 83, Loss: 3.339937210083008, Val Acc: 0.8128\n",
            "Epoch: 84, Loss: 3.339937210083008, Val Acc: 0.8128\n",
            "Epoch: 85, Loss: 3.339937210083008, Val Acc: 0.8128\n",
            "Epoch: 86, Loss: 3.339937210083008, Val Acc: 0.8128\n",
            "Epoch: 87, Loss: 3.339937210083008, Val Acc: 0.8128\n",
            "Epoch: 88, Loss: 3.339937210083008, Val Acc: 0.8128\n",
            "Epoch: 89, Loss: 3.339937210083008, Val Acc: 0.8128\n",
            "Epoch: 90, Loss: 3.339937210083008, Val Acc: 0.8128\n",
            "Epoch: 91, Loss: 3.339937210083008, Val Acc: 0.8128\n",
            "Epoch: 92, Loss: 3.339937210083008, Val Acc: 0.8128\n",
            "Epoch: 93, Loss: 3.339937210083008, Val Acc: 0.8128\n",
            "Epoch: 94, Loss: 3.339937210083008, Val Acc: 0.8128\n",
            "Epoch: 95, Loss: 3.339937210083008, Val Acc: 0.8128\n",
            "Epoch: 96, Loss: 3.339937210083008, Val Acc: 0.8128\n",
            "Epoch: 97, Loss: 3.339937210083008, Val Acc: 0.8128\n",
            "Epoch: 98, Loss: 3.339937210083008, Val Acc: 0.8128\n",
            "Epoch: 99, Loss: 3.339937210083008, Val Acc: 0.8128\n",
            "Epoch: 100, Loss: 3.339937210083008, Val Acc: 0.8128\n",
            "Test Acc: 0.13258785942492013\n"
          ]
        }
      ]
    },
    {
      "cell_type": "code",
      "source": [
        "from sklearn.metrics import accuracy_score, precision_score, recall_score, f1_score\n",
        "\n",
        "# Evaluate the model on the testing set\n",
        "model.eval()\n",
        "with torch.no_grad():\n",
        "    logits = model(data.x, data.edge_index)\n",
        "    pred = logits.argmax(dim=1)\n",
        "    pred_test = pred[data.test_mask].cpu().numpy()\n",
        "    labels_test = data.y[data.test_mask].cpu().numpy()\n",
        "\n",
        "accuracy = accuracy_score(labels_test, pred_test)\n",
        "precision = precision_score(labels_test, pred_test, average='macro')\n",
        "recall = recall_score(labels_test, pred_test, average='macro')\n",
        "f1 = f1_score(labels_test, pred_test, average='macro')\n",
        "\n",
        "print(f'Test Accuracy: {accuracy:.4f}')\n",
        "print(f'Precision: {precision:.4f}')\n",
        "print(f'Recall: {recall:.4f}')\n",
        "print(f'F1-score: {f1:.4f}')\n"
      ],
      "metadata": {
        "colab": {
          "base_uri": "https://localhost:8080/",
          "height": 0
        },
        "id": "BBosav6zEKgH",
        "outputId": "ce042bea-3403-4760-ab8c-d7fbe8a991d3"
      },
      "execution_count": 12,
      "outputs": [
        {
          "output_type": "stream",
          "name": "stdout",
          "text": [
            "Test Accuracy: 0.1326\n",
            "Precision: 0.0221\n",
            "Recall: 0.1667\n",
            "F1-score: 0.0390\n"
          ]
        },
        {
          "output_type": "stream",
          "name": "stderr",
          "text": [
            "/usr/local/lib/python3.10/dist-packages/sklearn/metrics/_classification.py:1344: UndefinedMetricWarning: Precision is ill-defined and being set to 0.0 in labels with no predicted samples. Use `zero_division` parameter to control this behavior.\n",
            "  _warn_prf(average, modifier, msg_start, len(result))\n"
          ]
        }
      ]
    },
    {
      "cell_type": "markdown",
      "source": [
        "So, our feature array will have length of 1283 and will be the same for all nodes to avoid jagged matrix"
      ],
      "metadata": {
        "id": "4Ss-xuMJ20ag"
      }
    },
    {
      "cell_type": "markdown",
      "source": [
        "code given below creates feature vectors with the length of 1283 for each node"
      ],
      "metadata": {
        "id": "Xk2LfAx2Bppu"
      }
    },
    {
      "cell_type": "markdown",
      "source": [
        "Obtaining Labels from the .circles files"
      ],
      "metadata": {
        "id": "PQ49mAkrxIas"
      }
    }
  ],
  "metadata": {
    "colab": {
      "collapsed_sections": [
        "8lw2apJ9qnYk",
        "pOvZ7VRS-4RS"
      ],
      "provenance": []
    },
    "kernelspec": {
      "display_name": "Python 3",
      "name": "python3"
    },
    "language_info": {
      "name": "python"
    }
  },
  "nbformat": 4,
  "nbformat_minor": 0
}