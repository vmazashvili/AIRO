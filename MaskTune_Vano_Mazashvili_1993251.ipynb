{
  "nbformat": 4,
  "nbformat_minor": 0,
  "metadata": {
    "colab": {
      "provenance": [],
      "gpuType": "T4",
      "authorship_tag": "ABX9TyOCTbZJkNcIa8LOt1opLdXY",
      "include_colab_link": true
    },
    "kernelspec": {
      "name": "python3",
      "display_name": "Python 3"
    },
    "language_info": {
      "name": "python"
    },
    "accelerator": "GPU"
  },
  "cells": [
    {
      "cell_type": "markdown",
      "metadata": {
        "id": "view-in-github",
        "colab_type": "text"
      },
      "source": [
        "<a href=\"https://colab.research.google.com/github/vmazashvili/AIRO/blob/main/MaskTune_Vano_Mazashvili_1993251.ipynb\" target=\"_parent\"><img src=\"https://colab.research.google.com/assets/colab-badge.svg\" alt=\"Open In Colab\"/></a>"
      ]
    },
    {
      "cell_type": "markdown",
      "source": [
        "MaskTune Model\n",
        "\n",
        "- train an ERM Model (Empirical Risk Minimization)\n",
        "    - Load and normalize the CIFAR10 training and test datasets using torchvision\n",
        "\n",
        "    - Define a Convolutional Neural Network\n",
        "\n",
        "    - Define a loss function\n",
        "\n",
        "    - Train the network on the training data\n",
        "\n",
        "Test the network on the test data\n",
        "- Generate Masks based on Model Outputs\n",
        "- Fine-tune the Model with Masks\n",
        "- Testing and Evaluation"
      ],
      "metadata": {
        "id": "0Yjq3qMXaDTm"
      }
    },
    {
      "cell_type": "code",
      "source": [
        "!pip install torch torchvision timm\n",
        "!pip install torchcam\n",
        "!pip install pytorch-gradcam"
      ],
      "metadata": {
        "colab": {
          "base_uri": "https://localhost:8080/"
        },
        "id": "w4v38sj4upbb",
        "outputId": "16554d50-8c4f-4348-b5a9-114d4491b5a2"
      },
      "execution_count": 5,
      "outputs": [
        {
          "output_type": "stream",
          "name": "stdout",
          "text": [
            "Requirement already satisfied: torch in /usr/local/lib/python3.10/dist-packages (2.2.1+cu121)\n",
            "Requirement already satisfied: torchvision in /usr/local/lib/python3.10/dist-packages (0.17.1+cu121)\n",
            "Collecting timm\n",
            "  Downloading timm-1.0.3-py3-none-any.whl (2.3 MB)\n",
            "\u001b[2K     \u001b[90m━━━━━━━━━━━━━━━━━━━━━━━━━━━━━━━━━━━━━━━━\u001b[0m \u001b[32m2.3/2.3 MB\u001b[0m \u001b[31m18.0 MB/s\u001b[0m eta \u001b[36m0:00:00\u001b[0m\n",
            "\u001b[?25hRequirement already satisfied: filelock in /usr/local/lib/python3.10/dist-packages (from torch) (3.14.0)\n",
            "Requirement already satisfied: typing-extensions>=4.8.0 in /usr/local/lib/python3.10/dist-packages (from torch) (4.11.0)\n",
            "Requirement already satisfied: sympy in /usr/local/lib/python3.10/dist-packages (from torch) (1.12)\n",
            "Requirement already satisfied: networkx in /usr/local/lib/python3.10/dist-packages (from torch) (3.3)\n",
            "Requirement already satisfied: jinja2 in /usr/local/lib/python3.10/dist-packages (from torch) (3.1.4)\n",
            "Requirement already satisfied: fsspec in /usr/local/lib/python3.10/dist-packages (from torch) (2023.6.0)\n",
            "Collecting nvidia-cuda-nvrtc-cu12==12.1.105 (from torch)\n",
            "  Using cached nvidia_cuda_nvrtc_cu12-12.1.105-py3-none-manylinux1_x86_64.whl (23.7 MB)\n",
            "Collecting nvidia-cuda-runtime-cu12==12.1.105 (from torch)\n",
            "  Using cached nvidia_cuda_runtime_cu12-12.1.105-py3-none-manylinux1_x86_64.whl (823 kB)\n",
            "Collecting nvidia-cuda-cupti-cu12==12.1.105 (from torch)\n",
            "  Using cached nvidia_cuda_cupti_cu12-12.1.105-py3-none-manylinux1_x86_64.whl (14.1 MB)\n",
            "Collecting nvidia-cudnn-cu12==8.9.2.26 (from torch)\n",
            "  Using cached nvidia_cudnn_cu12-8.9.2.26-py3-none-manylinux1_x86_64.whl (731.7 MB)\n",
            "Collecting nvidia-cublas-cu12==12.1.3.1 (from torch)\n",
            "  Using cached nvidia_cublas_cu12-12.1.3.1-py3-none-manylinux1_x86_64.whl (410.6 MB)\n",
            "Collecting nvidia-cufft-cu12==11.0.2.54 (from torch)\n",
            "  Using cached nvidia_cufft_cu12-11.0.2.54-py3-none-manylinux1_x86_64.whl (121.6 MB)\n",
            "Collecting nvidia-curand-cu12==10.3.2.106 (from torch)\n",
            "  Using cached nvidia_curand_cu12-10.3.2.106-py3-none-manylinux1_x86_64.whl (56.5 MB)\n",
            "Collecting nvidia-cusolver-cu12==11.4.5.107 (from torch)\n",
            "  Using cached nvidia_cusolver_cu12-11.4.5.107-py3-none-manylinux1_x86_64.whl (124.2 MB)\n",
            "Collecting nvidia-cusparse-cu12==12.1.0.106 (from torch)\n",
            "  Using cached nvidia_cusparse_cu12-12.1.0.106-py3-none-manylinux1_x86_64.whl (196.0 MB)\n",
            "Collecting nvidia-nccl-cu12==2.19.3 (from torch)\n",
            "  Using cached nvidia_nccl_cu12-2.19.3-py3-none-manylinux1_x86_64.whl (166.0 MB)\n",
            "Collecting nvidia-nvtx-cu12==12.1.105 (from torch)\n",
            "  Using cached nvidia_nvtx_cu12-12.1.105-py3-none-manylinux1_x86_64.whl (99 kB)\n",
            "Requirement already satisfied: triton==2.2.0 in /usr/local/lib/python3.10/dist-packages (from torch) (2.2.0)\n",
            "Collecting nvidia-nvjitlink-cu12 (from nvidia-cusolver-cu12==11.4.5.107->torch)\n",
            "  Using cached nvidia_nvjitlink_cu12-12.4.127-py3-none-manylinux2014_x86_64.whl (21.1 MB)\n",
            "Requirement already satisfied: numpy in /usr/local/lib/python3.10/dist-packages (from torchvision) (1.25.2)\n",
            "Requirement already satisfied: pillow!=8.3.*,>=5.3.0 in /usr/local/lib/python3.10/dist-packages (from torchvision) (9.4.0)\n",
            "Requirement already satisfied: pyyaml in /usr/local/lib/python3.10/dist-packages (from timm) (6.0.1)\n",
            "Requirement already satisfied: huggingface_hub in /usr/local/lib/python3.10/dist-packages (from timm) (0.20.3)\n",
            "Requirement already satisfied: safetensors in /usr/local/lib/python3.10/dist-packages (from timm) (0.4.3)\n",
            "Requirement already satisfied: requests in /usr/local/lib/python3.10/dist-packages (from huggingface_hub->timm) (2.31.0)\n",
            "Requirement already satisfied: tqdm>=4.42.1 in /usr/local/lib/python3.10/dist-packages (from huggingface_hub->timm) (4.66.4)\n",
            "Requirement already satisfied: packaging>=20.9 in /usr/local/lib/python3.10/dist-packages (from huggingface_hub->timm) (24.0)\n",
            "Requirement already satisfied: MarkupSafe>=2.0 in /usr/local/lib/python3.10/dist-packages (from jinja2->torch) (2.1.5)\n",
            "Requirement already satisfied: mpmath>=0.19 in /usr/local/lib/python3.10/dist-packages (from sympy->torch) (1.3.0)\n",
            "Requirement already satisfied: charset-normalizer<4,>=2 in /usr/local/lib/python3.10/dist-packages (from requests->huggingface_hub->timm) (3.3.2)\n",
            "Requirement already satisfied: idna<4,>=2.5 in /usr/local/lib/python3.10/dist-packages (from requests->huggingface_hub->timm) (3.7)\n",
            "Requirement already satisfied: urllib3<3,>=1.21.1 in /usr/local/lib/python3.10/dist-packages (from requests->huggingface_hub->timm) (2.0.7)\n",
            "Requirement already satisfied: certifi>=2017.4.17 in /usr/local/lib/python3.10/dist-packages (from requests->huggingface_hub->timm) (2024.2.2)\n",
            "Installing collected packages: nvidia-nvtx-cu12, nvidia-nvjitlink-cu12, nvidia-nccl-cu12, nvidia-curand-cu12, nvidia-cufft-cu12, nvidia-cuda-runtime-cu12, nvidia-cuda-nvrtc-cu12, nvidia-cuda-cupti-cu12, nvidia-cublas-cu12, nvidia-cusparse-cu12, nvidia-cudnn-cu12, nvidia-cusolver-cu12, timm\n",
            "Successfully installed nvidia-cublas-cu12-12.1.3.1 nvidia-cuda-cupti-cu12-12.1.105 nvidia-cuda-nvrtc-cu12-12.1.105 nvidia-cuda-runtime-cu12-12.1.105 nvidia-cudnn-cu12-8.9.2.26 nvidia-cufft-cu12-11.0.2.54 nvidia-curand-cu12-10.3.2.106 nvidia-cusolver-cu12-11.4.5.107 nvidia-cusparse-cu12-12.1.0.106 nvidia-nccl-cu12-2.19.3 nvidia-nvjitlink-cu12-12.4.127 nvidia-nvtx-cu12-12.1.105 timm-1.0.3\n",
            "Collecting torchcam\n",
            "  Downloading torchcam-0.4.0-py3-none-any.whl (46 kB)\n",
            "\u001b[2K     \u001b[90m━━━━━━━━━━━━━━━━━━━━━━━━━━━━━━━━━━━━━━━━\u001b[0m \u001b[32m46.0/46.0 kB\u001b[0m \u001b[31m1.1 MB/s\u001b[0m eta \u001b[36m0:00:00\u001b[0m\n",
            "\u001b[?25hRequirement already satisfied: torch<3.0.0,>=2.0.0 in /usr/local/lib/python3.10/dist-packages (from torchcam) (2.2.1+cu121)\n",
            "Requirement already satisfied: numpy<2.0.0,>=1.17.2 in /usr/local/lib/python3.10/dist-packages (from torchcam) (1.25.2)\n",
            "Requirement already satisfied: Pillow!=9.2.0,>=8.4.0 in /usr/local/lib/python3.10/dist-packages (from torchcam) (9.4.0)\n",
            "Requirement already satisfied: matplotlib<4.0.0,>=3.7.0 in /usr/local/lib/python3.10/dist-packages (from torchcam) (3.7.1)\n",
            "Requirement already satisfied: contourpy>=1.0.1 in /usr/local/lib/python3.10/dist-packages (from matplotlib<4.0.0,>=3.7.0->torchcam) (1.2.1)\n",
            "Requirement already satisfied: cycler>=0.10 in /usr/local/lib/python3.10/dist-packages (from matplotlib<4.0.0,>=3.7.0->torchcam) (0.12.1)\n",
            "Requirement already satisfied: fonttools>=4.22.0 in /usr/local/lib/python3.10/dist-packages (from matplotlib<4.0.0,>=3.7.0->torchcam) (4.51.0)\n",
            "Requirement already satisfied: kiwisolver>=1.0.1 in /usr/local/lib/python3.10/dist-packages (from matplotlib<4.0.0,>=3.7.0->torchcam) (1.4.5)\n",
            "Requirement already satisfied: packaging>=20.0 in /usr/local/lib/python3.10/dist-packages (from matplotlib<4.0.0,>=3.7.0->torchcam) (24.0)\n",
            "Requirement already satisfied: pyparsing>=2.3.1 in /usr/local/lib/python3.10/dist-packages (from matplotlib<4.0.0,>=3.7.0->torchcam) (3.1.2)\n",
            "Requirement already satisfied: python-dateutil>=2.7 in /usr/local/lib/python3.10/dist-packages (from matplotlib<4.0.0,>=3.7.0->torchcam) (2.8.2)\n",
            "Requirement already satisfied: filelock in /usr/local/lib/python3.10/dist-packages (from torch<3.0.0,>=2.0.0->torchcam) (3.14.0)\n",
            "Requirement already satisfied: typing-extensions>=4.8.0 in /usr/local/lib/python3.10/dist-packages (from torch<3.0.0,>=2.0.0->torchcam) (4.11.0)\n",
            "Requirement already satisfied: sympy in /usr/local/lib/python3.10/dist-packages (from torch<3.0.0,>=2.0.0->torchcam) (1.12)\n",
            "Requirement already satisfied: networkx in /usr/local/lib/python3.10/dist-packages (from torch<3.0.0,>=2.0.0->torchcam) (3.3)\n",
            "Requirement already satisfied: jinja2 in /usr/local/lib/python3.10/dist-packages (from torch<3.0.0,>=2.0.0->torchcam) (3.1.4)\n",
            "Requirement already satisfied: fsspec in /usr/local/lib/python3.10/dist-packages (from torch<3.0.0,>=2.0.0->torchcam) (2023.6.0)\n",
            "Requirement already satisfied: nvidia-cuda-nvrtc-cu12==12.1.105 in /usr/local/lib/python3.10/dist-packages (from torch<3.0.0,>=2.0.0->torchcam) (12.1.105)\n",
            "Requirement already satisfied: nvidia-cuda-runtime-cu12==12.1.105 in /usr/local/lib/python3.10/dist-packages (from torch<3.0.0,>=2.0.0->torchcam) (12.1.105)\n",
            "Requirement already satisfied: nvidia-cuda-cupti-cu12==12.1.105 in /usr/local/lib/python3.10/dist-packages (from torch<3.0.0,>=2.0.0->torchcam) (12.1.105)\n",
            "Requirement already satisfied: nvidia-cudnn-cu12==8.9.2.26 in /usr/local/lib/python3.10/dist-packages (from torch<3.0.0,>=2.0.0->torchcam) (8.9.2.26)\n",
            "Requirement already satisfied: nvidia-cublas-cu12==12.1.3.1 in /usr/local/lib/python3.10/dist-packages (from torch<3.0.0,>=2.0.0->torchcam) (12.1.3.1)\n",
            "Requirement already satisfied: nvidia-cufft-cu12==11.0.2.54 in /usr/local/lib/python3.10/dist-packages (from torch<3.0.0,>=2.0.0->torchcam) (11.0.2.54)\n",
            "Requirement already satisfied: nvidia-curand-cu12==10.3.2.106 in /usr/local/lib/python3.10/dist-packages (from torch<3.0.0,>=2.0.0->torchcam) (10.3.2.106)\n",
            "Requirement already satisfied: nvidia-cusolver-cu12==11.4.5.107 in /usr/local/lib/python3.10/dist-packages (from torch<3.0.0,>=2.0.0->torchcam) (11.4.5.107)\n",
            "Requirement already satisfied: nvidia-cusparse-cu12==12.1.0.106 in /usr/local/lib/python3.10/dist-packages (from torch<3.0.0,>=2.0.0->torchcam) (12.1.0.106)\n",
            "Requirement already satisfied: nvidia-nccl-cu12==2.19.3 in /usr/local/lib/python3.10/dist-packages (from torch<3.0.0,>=2.0.0->torchcam) (2.19.3)\n",
            "Requirement already satisfied: nvidia-nvtx-cu12==12.1.105 in /usr/local/lib/python3.10/dist-packages (from torch<3.0.0,>=2.0.0->torchcam) (12.1.105)\n",
            "Requirement already satisfied: triton==2.2.0 in /usr/local/lib/python3.10/dist-packages (from torch<3.0.0,>=2.0.0->torchcam) (2.2.0)\n",
            "Requirement already satisfied: nvidia-nvjitlink-cu12 in /usr/local/lib/python3.10/dist-packages (from nvidia-cusolver-cu12==11.4.5.107->torch<3.0.0,>=2.0.0->torchcam) (12.4.127)\n",
            "Requirement already satisfied: six>=1.5 in /usr/local/lib/python3.10/dist-packages (from python-dateutil>=2.7->matplotlib<4.0.0,>=3.7.0->torchcam) (1.16.0)\n",
            "Requirement already satisfied: MarkupSafe>=2.0 in /usr/local/lib/python3.10/dist-packages (from jinja2->torch<3.0.0,>=2.0.0->torchcam) (2.1.5)\n",
            "Requirement already satisfied: mpmath>=0.19 in /usr/local/lib/python3.10/dist-packages (from sympy->torch<3.0.0,>=2.0.0->torchcam) (1.3.0)\n",
            "Installing collected packages: torchcam\n",
            "Successfully installed torchcam-0.4.0\n",
            "Collecting pytorch-gradcam\n",
            "  Downloading pytorch-gradcam-0.2.1.tar.gz (6.0 MB)\n",
            "\u001b[2K     \u001b[90m━━━━━━━━━━━━━━━━━━━━━━━━━━━━━━━━━━━━━━━━\u001b[0m \u001b[32m6.0/6.0 MB\u001b[0m \u001b[31m22.1 MB/s\u001b[0m eta \u001b[36m0:00:00\u001b[0m\n",
            "\u001b[?25h  Preparing metadata (setup.py) ... \u001b[?25l\u001b[?25hdone\n",
            "Requirement already satisfied: opencv-python in /usr/local/lib/python3.10/dist-packages (from pytorch-gradcam) (4.8.0.76)\n",
            "Requirement already satisfied: numpy in /usr/local/lib/python3.10/dist-packages (from pytorch-gradcam) (1.25.2)\n",
            "Building wheels for collected packages: pytorch-gradcam\n",
            "  Building wheel for pytorch-gradcam (setup.py) ... \u001b[?25l\u001b[?25hdone\n",
            "  Created wheel for pytorch-gradcam: filename=pytorch_gradcam-0.2.1-py3-none-any.whl size=5249 sha256=351bb3b3f405e73977defb373e670275312846d29ed2dfa9f225a56fbfe0a3ab\n",
            "  Stored in directory: /root/.cache/pip/wheels/6f/f1/8f/96c81d13f617841f23cae192a77fea3e9e988d058ba9414f2c\n",
            "Successfully built pytorch-gradcam\n",
            "Installing collected packages: pytorch-gradcam\n",
            "Successfully installed pytorch-gradcam-0.2.1\n"
          ]
        }
      ]
    },
    {
      "cell_type": "code",
      "source": [
        "import cv2\n",
        "import timm\n",
        "import torch\n",
        "import random\n",
        "import numpy as np\n",
        "import torchvision\n",
        "import matplotlib.pyplot as plt\n",
        "import torch.nn.functional as F\n",
        "from torch import nn\n",
        "from torch import optim\n",
        "from torchcam.methods import XGradCAM\n",
        "from torch.utils.data import DataLoader\n",
        "from torchvision import datasets, transforms\n",
        "from torchvision.transforms import ToTensor, Lambda"
      ],
      "metadata": {
        "id": "RVe71WOgg9ml"
      },
      "execution_count": 6,
      "outputs": []
    },
    {
      "cell_type": "markdown",
      "source": [
        "# MNIST DATASET\n",
        "\n",
        "- [x] Distinguish between two MNIST digit groups (0-4 and 5-9)\n",
        "- [x] 0-4 into class 0 and 5-9 into class 1.\n",
        "- [ ] Transform 99% of new class 0 and 1% of the new class 1 so that they acquire same spurious feature (square in top left corner)\n",
        "- [ ] Two test sets during testing: the original raw MNIST test set and a biased test set.\n",
        "- [ ] biasd test set - add spurious feature to only 5-9 group  "
      ],
      "metadata": {
        "id": "XjqipoBg9duJ"
      }
    },
    {
      "cell_type": "markdown",
      "source": [
        "Load and normalize the MNIST training and test datasets using torchvision. We can Induce spurrious features too\n",
        "\n"
      ],
      "metadata": {
        "id": "b-gkEFw9icSs"
      }
    },
    {
      "cell_type": "code",
      "source": [
        "import torch\n",
        "from torchvision import datasets\n",
        "\n",
        "def remap_classes(dataset):\n",
        "    \"\"\"\n",
        "    Remap MNIST dataset classes to two new classes\n",
        "    new_to_old_label_mapping={0: [0, 1, 2, 3, 4], 1: [5, 6, 7, 8, 9]},\n",
        "    \"\"\"\n",
        "    remapped_data = []\n",
        "    remapped_targets = []\n",
        "\n",
        "    for data, target in dataset:\n",
        "        if target < 5:  # Digits 0-4\n",
        "            remapped_targets.append(0)\n",
        "        else:  # Digits 5-9\n",
        "            remapped_targets.append(1)\n",
        "\n",
        "        remapped_data.append(data)\n",
        "\n",
        "    return list(zip(remapped_data, remapped_targets))\n",
        "\n",
        "# Load the MNIST dataset\n",
        "mnist_train = datasets.MNIST(root='data', train=True, download=True)\n",
        "mnist_test = datasets.MNIST(root='data', train=False, download=True)\n",
        "\n",
        "# Remap the classes\n",
        "remapped_train_data = remap_classes(mnist_train)\n",
        "remapped_test_data = remap_classes(mnist_test)\n",
        "\n",
        "# Example usage:\n",
        "print(\"Original class distribution in train set:\", mnist_train.targets.bincount())\n",
        "print(\"Remapped class distribution in train set:\", torch.tensor([target for _, target in remapped_train_data]).bincount())\n",
        "\n",
        "print(\"Original class distribution in test set:\", mnist_test.targets.bincount())\n",
        "print(\"Remapped class distribution in test set:\", torch.tensor([target for _, target in remapped_test_data]).bincount())\n"
      ],
      "metadata": {
        "colab": {
          "base_uri": "https://localhost:8080/"
        },
        "id": "DALGG5P3KgF8",
        "outputId": "1422a3a2-6ffc-4e09-8266-edc7319b0360"
      },
      "execution_count": 7,
      "outputs": [
        {
          "output_type": "stream",
          "name": "stdout",
          "text": [
            "Downloading http://yann.lecun.com/exdb/mnist/train-images-idx3-ubyte.gz\n",
            "Failed to download (trying next):\n",
            "HTTP Error 403: Forbidden\n",
            "\n",
            "Downloading https://ossci-datasets.s3.amazonaws.com/mnist/train-images-idx3-ubyte.gz\n",
            "Downloading https://ossci-datasets.s3.amazonaws.com/mnist/train-images-idx3-ubyte.gz to data/MNIST/raw/train-images-idx3-ubyte.gz\n"
          ]
        },
        {
          "output_type": "stream",
          "name": "stderr",
          "text": [
            "100%|██████████| 9912422/9912422 [00:01<00:00, 5858822.65it/s]\n"
          ]
        },
        {
          "output_type": "stream",
          "name": "stdout",
          "text": [
            "Extracting data/MNIST/raw/train-images-idx3-ubyte.gz to data/MNIST/raw\n",
            "\n",
            "Downloading http://yann.lecun.com/exdb/mnist/train-labels-idx1-ubyte.gz\n",
            "Failed to download (trying next):\n",
            "HTTP Error 403: Forbidden\n",
            "\n",
            "Downloading https://ossci-datasets.s3.amazonaws.com/mnist/train-labels-idx1-ubyte.gz\n",
            "Downloading https://ossci-datasets.s3.amazonaws.com/mnist/train-labels-idx1-ubyte.gz to data/MNIST/raw/train-labels-idx1-ubyte.gz\n"
          ]
        },
        {
          "output_type": "stream",
          "name": "stderr",
          "text": [
            "100%|██████████| 28881/28881 [00:00<00:00, 15119282.80it/s]\n"
          ]
        },
        {
          "output_type": "stream",
          "name": "stdout",
          "text": [
            "Extracting data/MNIST/raw/train-labels-idx1-ubyte.gz to data/MNIST/raw\n",
            "\n",
            "Downloading http://yann.lecun.com/exdb/mnist/t10k-images-idx3-ubyte.gz\n",
            "Failed to download (trying next):\n",
            "HTTP Error 403: Forbidden\n",
            "\n",
            "Downloading https://ossci-datasets.s3.amazonaws.com/mnist/t10k-images-idx3-ubyte.gz\n",
            "Downloading https://ossci-datasets.s3.amazonaws.com/mnist/t10k-images-idx3-ubyte.gz to data/MNIST/raw/t10k-images-idx3-ubyte.gz\n"
          ]
        },
        {
          "output_type": "stream",
          "name": "stderr",
          "text": [
            "100%|██████████| 1648877/1648877 [00:00<00:00, 5335310.88it/s]\n"
          ]
        },
        {
          "output_type": "stream",
          "name": "stdout",
          "text": [
            "Extracting data/MNIST/raw/t10k-images-idx3-ubyte.gz to data/MNIST/raw\n",
            "\n",
            "Downloading http://yann.lecun.com/exdb/mnist/t10k-labels-idx1-ubyte.gz\n",
            "Failed to download (trying next):\n",
            "HTTP Error 403: Forbidden\n",
            "\n",
            "Downloading https://ossci-datasets.s3.amazonaws.com/mnist/t10k-labels-idx1-ubyte.gz\n",
            "Downloading https://ossci-datasets.s3.amazonaws.com/mnist/t10k-labels-idx1-ubyte.gz to data/MNIST/raw/t10k-labels-idx1-ubyte.gz\n"
          ]
        },
        {
          "output_type": "stream",
          "name": "stderr",
          "text": [
            "100%|██████████| 4542/4542 [00:00<00:00, 7931111.06it/s]\n"
          ]
        },
        {
          "output_type": "stream",
          "name": "stdout",
          "text": [
            "Extracting data/MNIST/raw/t10k-labels-idx1-ubyte.gz to data/MNIST/raw\n",
            "\n",
            "Original class distribution in train set: tensor([5923, 6742, 5958, 6131, 5842, 5421, 5918, 6265, 5851, 5949])\n",
            "Remapped class distribution in train set: tensor([30596, 29404])\n",
            "Original class distribution in test set: tensor([ 980, 1135, 1032, 1010,  982,  892,  958, 1028,  974, 1009])\n",
            "Remapped class distribution in test set: tensor([5139, 4861])\n"
          ]
        }
      ]
    },
    {
      "cell_type": "code",
      "source": [
        "remapped_train_data[0]"
      ],
      "metadata": {
        "colab": {
          "base_uri": "https://localhost:8080/"
        },
        "id": "pdlYG9vjzE0g",
        "outputId": "c6ceb5d6-267e-4ad5-81ae-b8e2b1b7edde"
      },
      "execution_count": 8,
      "outputs": [
        {
          "output_type": "execute_result",
          "data": {
            "text/plain": [
              "(<PIL.Image.Image image mode=L size=28x28>, 1)"
            ]
          },
          "metadata": {},
          "execution_count": 8
        }
      ]
    },
    {
      "cell_type": "code",
      "source": [
        "import random\n",
        "from PIL import Image, ImageDraw\n",
        "\n",
        "def add_spurious_feature(image, label, spurious_value=255, percentage_class_0=0.9, percentage_class_1=0.1):\n",
        "  \"\"\"\n",
        "  A function to add a spurious feature to PIL images based on label and class-specific percentages.\n",
        "\n",
        "  Args:\n",
        "      image (PIL.Image.Image): Input image.\n",
        "      label (int): The class label of the image.\n",
        "      spurious_value (int, optional): Value to assign to the spurious feature pixels. Defaults to 255.\n",
        "      percentage_class_0 (float, optional): Percentage of class 0 samples to apply the feature to. Defaults to 0.9.\n",
        "      percentage_class_1 (float, optional): Percentage of class 1 samples to apply the feature to. Defaults to 0.1.\n",
        "\n",
        "  Returns:\n",
        "      PIL.Image.Image: Transformed image with the spurious feature added (if applicable).\n",
        "  \"\"\"\n",
        "\n",
        "  # Determine the appropriate percentage based on the class label\n",
        "  percentage = percentage_class_0 if label == 0 else percentage_class_1\n",
        "\n",
        "  # Check if the condition for adding the feature is met\n",
        "  if random.random() < percentage:\n",
        "\n",
        "        # Create a copy of the input image\n",
        "        image_with_spurious = image.copy()\n",
        "        # Create a drawing context\n",
        "        draw = ImageDraw.Draw(image_with_spurious)\n",
        "        # Draw a square in the top-left corner\n",
        "        draw.rectangle([0, 0, 4, 4], fill=(spurious_value,))\n",
        "        del draw  # Release drawing context\n",
        "        image_with_spurious = image.copy()\n",
        "        draw = ImageDraw.Draw(image_with_spurious)\n",
        "        draw.rectangle([0, 0, 4, 4], fill=(spurious_value,))\n",
        "        del draw\n",
        "        return image_with_spurious\n",
        "  else:\n",
        "      return image\n",
        "\n",
        "  return image_with_spurious\n",
        "\n",
        "\n",
        "# Apply add_spurious_feature to the entire remapped_train_data dataset\n",
        "remapped_train_data_with_spurious = [(add_spurious_feature(image, label), label) for image, label in remapped_train_data]\n",
        "\n",
        "\n"
      ],
      "metadata": {
        "id": "7VVvTWNS9dbY"
      },
      "execution_count": 9,
      "outputs": []
    },
    {
      "cell_type": "code",
      "source": [
        "from PIL import Image\n",
        "\n",
        "\n",
        "def add_spurious_feature(image, label, spurious_value=255):\n",
        "  \"\"\"\n",
        "  A function to add a spurious feature to a PIL image for class 1 samples.\n",
        "\n",
        "  Args:\n",
        "      image (PIL.Image.Image): Input image.\n",
        "      label (int): The class label of the image.\n",
        "      spurious_value (int, optional): Value to assign to the spurious feature pixels. Defaults to 255.\n",
        "\n",
        "  Returns:\n",
        "      PIL.Image.Image: Transformed image with the spurious feature added (if applicable).\n",
        "  \"\"\"\n",
        "\n",
        "  if label == 1:\n",
        "      # Always add the feature to class 1 samples\n",
        "      image_with_spurious = image.copy()\n",
        "      draw = ImageDraw.Draw(image_with_spurious)\n",
        "      draw.rectangle([0, 0, 4, 4], fill=(spurious_value,))\n",
        "      del draw\n",
        "      return image_with_spurious\n",
        "  else:\n",
        "      return image\n",
        "\n",
        "\n",
        "# Save remapped_test_data into test_data_raw\n",
        "test_data_raw = remapped_test_data.copy()  # Create a copy to avoid modifying the original data\n",
        "\n",
        "# Apply spurious features to class 1 samples in test_data_raw and store in test_data_biased\n",
        "test_data_biased = []\n",
        "for image, label in test_data_raw:\n",
        "  # Apply the feature only to class 1 samples\n",
        "  image_with_spurious = add_spurious_feature(image, label)\n",
        "  test_data_biased.append((image_with_spurious, label))\n",
        "\n"
      ],
      "metadata": {
        "id": "qfectVddEYjU"
      },
      "execution_count": 10,
      "outputs": []
    },
    {
      "cell_type": "code",
      "source": [
        "remapped_train_data_with_spurious[0]\n",
        "test_data_raw[0]\n",
        "test_data_biased[0]"
      ],
      "metadata": {
        "colab": {
          "base_uri": "https://localhost:8080/"
        },
        "id": "GWn4SHJM8jKL",
        "outputId": "cec4eef6-5b4e-4073-9d84-10a7caa4c2ed"
      },
      "execution_count": 11,
      "outputs": [
        {
          "output_type": "execute_result",
          "data": {
            "text/plain": [
              "(<PIL.Image.Image image mode=L size=28x28>, 1)"
            ]
          },
          "metadata": {},
          "execution_count": 11
        }
      ]
    },
    {
      "cell_type": "code",
      "source": [
        "import matplotlib.pyplot as plt\n",
        "\n",
        "# Initialize counters for each class\n",
        "class_counts = {0: 0, 1: 0}\n",
        "\n",
        "# Plot 10 samples for each class\n",
        "fig, axes = plt.subplots(2, 20, figsize=(20, 4))\n",
        "\n",
        "for image, label in remapped_train_data_with_spurious:\n",
        "    # Check if the maximum number of samples for each class is reached\n",
        "    if class_counts[label] >= 20:\n",
        "        continue\n",
        "\n",
        "    # Plot the image\n",
        "    ax = axes[label][class_counts[label]]\n",
        "    ax.imshow(image, cmap='gray')\n",
        "    ax.axis('off')\n",
        "    ax.set_title(f'Class {label}')\n",
        "\n",
        "    # Increment the counter for the respective class\n",
        "    class_counts[label] += 1\n",
        "\n",
        "plt.tight_layout()\n",
        "plt.show()\n"
      ],
      "metadata": {
        "colab": {
          "base_uri": "https://localhost:8080/",
          "height": 138
        },
        "id": "yXaDlQ4q2TpH",
        "outputId": "ac2f77ae-ee4c-4595-e513-3ed32aa46fb2"
      },
      "execution_count": 12,
      "outputs": [
        {
          "output_type": "display_data",
          "data": {
            "text/plain": [
              "<Figure size 2000x400 with 40 Axes>"
            ],
            "image/png": "[encoded data removed]"
          },
          "metadata": {}
        }
      ]
    },
    {
      "cell_type": "code",
      "source": [
        "import matplotlib.pyplot as plt\n",
        "\n",
        "# Initialize counters for each class\n",
        "class_counts_raw = {0: 0, 1: 0}\n",
        "class_counts_biased = {0: 0, 1: 0}\n",
        "\n",
        "# Plot 10 samples for each class from test_data_raw\n",
        "fig_raw, axes_raw = plt.subplots(2, 10, figsize=(20, 4))\n",
        "\n",
        "for image, label in test_data_raw:\n",
        "    # Check if the maximum number of samples for each class is reached\n",
        "    if class_counts_raw[label] >= 10:\n",
        "        continue\n",
        "\n",
        "    # Plot the image\n",
        "    ax = axes_raw[label][class_counts_raw[label]]\n",
        "    ax.imshow(image, cmap='gray')\n",
        "    ax.axis('off')\n",
        "    ax.set_title(f'Class {label}')\n",
        "\n",
        "    # Increment the counter for the respective class\n",
        "    class_counts_raw[label] += 1\n",
        "\n",
        "plt.tight_layout()\n",
        "plt.show()\n",
        "\n",
        "# Plot 10 samples for each class from test_data_biased\n",
        "fig_biased, axes_biased = plt.subplots(2, 10, figsize=(20, 4))\n",
        "\n",
        "for image, label in test_data_biased:\n",
        "    # Check if the maximum number of samples for each class is reached\n",
        "    if class_counts_biased[label] >= 10:\n",
        "        continue\n",
        "\n",
        "    # Plot the image\n",
        "    ax = axes_biased[label][class_counts_biased[label]]\n",
        "    ax.imshow(image, cmap='gray')\n",
        "    ax.axis('off')\n",
        "    ax.set_title(f'Class {label}')\n",
        "\n",
        "    # Increment the counter for the respective class\n",
        "    class_counts_biased[label] += 1\n",
        "\n",
        "plt.tight_layout()\n",
        "plt.show()\n"
      ],
      "metadata": {
        "colab": {
          "base_uri": "https://localhost:8080/",
          "height": 348
        },
        "id": "dHXn58a8EBDo",
        "outputId": "5c04321e-196a-49ec-acb8-379114f4d271"
      },
      "execution_count": 13,
      "outputs": [
        {
          "output_type": "display_data",
          "data": {
            "text/plain": [
              "<Figure size 2000x400 with 20 Axes>"
            ],
            "image/png": "[encoded data removed]"
          },
          "metadata": {}
        },
        {
          "output_type": "display_data",
          "data": {
            "text/plain": [
              "<Figure size 2000x400 with 20 Axes>"
            ],
            "image/png": "[encoded data removed]"
          },
          "metadata": {}
        }
      ]
    },
    {
      "cell_type": "markdown",
      "source": [
        "Therefore, we should have a training dataset ```remapped_train_data_with_spurious``` with two classes, 0 (containing digits 0-4) and 1 (digits 5-9).\n",
        "99% of the samples in class 0 have a spurious feature, while 1% of the class 1 has the same spurious feature.\n",
        "\n",
        "As for testing dataset, we have 2, ```test_data_raw``` and ```test_data_biased```. One will be a raw MNIST test dataset, while the other one will be a modified one with spurious features for class 1 samples.\n",
        "\n",
        "Thus we have ```test_data_daw```, ```test_data_spurious``` with only class 1 sample spurious features, `remapped_train_data_with_spurious`, and `remapped_train_data`"
      ],
      "metadata": {
        "id": "VR1-2Xg3ELd_"
      }
    },
    {
      "cell_type": "markdown",
      "source": [
        "# Dataloaders\n",
        "make batches"
      ],
      "metadata": {
        "id": "Uph4IAqN8VTe"
      }
    },
    {
      "cell_type": "code",
      "source": [
        "import torch\n",
        "from torchvision import transforms\n",
        "\n",
        "# Define a transform to convert PIL images to tensors\n",
        "transform = transforms.ToTensor()\n",
        "\n",
        "# Convert remapped_train_data_with_spurious to tensors\n",
        "remapped_spurious_train_data_tensor = [(transform(image), label) for image, label in remapped_train_data_with_spurious]\n",
        "\n",
        "# Convert test_data_raw to tensors\n",
        "test_data_raw_tensor = [(transform(image), label) for image, label in test_data_raw]\n",
        "test_data_biased_tesnsor = [(transform(image), label) for image, label in test_data_biased]"
      ],
      "metadata": {
        "id": "u3Bh8Xs4-S0r"
      },
      "execution_count": 14,
      "outputs": []
    },
    {
      "cell_type": "code",
      "source": [
        "biased_train_dataloader = DataLoader(remapped_spurious_train_data_tensor, batch_size=128)\n",
        "raw_test_dataloader = DataLoader(test_data_raw_tensor, batch_size=128)\n",
        "biased_test_dataloader = DataLoader(test_data_biased_tesnsor, batch_size=128)\n",
        "len(biased_train_dataloader)\n",
        "len(raw_test_dataloader)\n",
        "len(biased_test_dataloader)"
      ],
      "metadata": {
        "colab": {
          "base_uri": "https://localhost:8080/"
        },
        "id": "IWdJy_tW6Dop",
        "outputId": "9d97c493-5df8-4833-e47b-0c2eefa952b4"
      },
      "execution_count": 15,
      "outputs": [
        {
          "output_type": "execute_result",
          "data": {
            "text/plain": [
              "79"
            ]
          },
          "metadata": {},
          "execution_count": 15
        }
      ]
    },
    {
      "cell_type": "markdown",
      "source": [
        "# Define CNN\n",
        "Define a Convolutional Neural Network and give its class a ```get_grad_cam_target_layer``` function which will grab the last convolutional layer to use it for saliency map generation. Uses almost the same architecture as the paper \"MaskTune: Mitigating Spurious Correlations by Forcing to Explore\""
      ],
      "metadata": {
        "id": "Dlxs0SJ98ftx"
      }
    },
    {
      "cell_type": "code",
      "source": [
        "# Small Convolutional Neural Network\n",
        "\n",
        "class SmallCNN(nn.Module):\n",
        "    def __init__(self, num_classes):\n",
        "        super().__init__()\n",
        "        self.num_classes = num_classes\n",
        "        self.backbone = nn.Sequential(\n",
        "            nn.Conv2d(1, 16, (3, 3), (1, 1)),\n",
        "            nn.BatchNorm2d(16),\n",
        "            nn.ReLU(),\n",
        "            nn.Conv2d(16, 16, (3, 3), (1, 1)),\n",
        "            nn.BatchNorm2d(num_features=16),\n",
        "            nn.ReLU(),\n",
        "            nn.MaxPool2d((2, 2), (2, 2)),\n",
        "            nn.Conv2d(16, 32, (3, 3), (1, 1)),\n",
        "            nn.BatchNorm2d(num_features=32),\n",
        "            nn.ReLU(),\n",
        "            nn.Conv2d(32, 32, (3, 3), (1, 1)),\n",
        "            nn.BatchNorm2d(num_features=32),\n",
        "            nn.ReLU(),\n",
        "            nn.MaxPool2d((2, 2), (2, 2)),\n",
        "            nn.Flatten()\n",
        "        )\n",
        "\n",
        "        self.linear = nn.Sequential(\n",
        "            nn.Linear(512, 256),\n",
        "            nn.BatchNorm1d(num_features=256),\n",
        "            nn.ReLU(),\n",
        "            nn.Linear(256, self.num_classes)\n",
        "        )\n",
        "\n",
        "    def forward(self, x):\n",
        "        features = self.backbone(x)\n",
        "        logits = self.linear(features)\n",
        "        return logits\n",
        "\n",
        "\n",
        "    def get_grad_cam_target_layer(self):\n",
        "        return self.backbone[-5]\n"
      ],
      "metadata": {
        "id": "kFdy4wMmGyXC"
      },
      "execution_count": 16,
      "outputs": []
    },
    {
      "cell_type": "markdown",
      "source": [
        "### Hyperparameters, optimizer, model selection"
      ],
      "metadata": {
        "id": "JmVn-g3Z87tf"
      }
    },
    {
      "cell_type": "code",
      "source": [
        "import torch.optim as optim\n",
        "from sklearn.metrics import accuracy_score, precision_score, recall_score, f1_score\n",
        "\n",
        "# Hyperparameters\n",
        "lr = 0.01\n",
        "momentum = 0.9\n",
        "weight_decay = 1e-4\n",
        "batch_size = 128\n",
        "epochs = 20\n",
        "lr_decay_epochs = 25\n",
        "lr_decay_factor = 0.5\n",
        "number_of_classes = 2\n",
        "\n",
        "# Loss function\n",
        "loss_function = nn.CrossEntropyLoss()\n",
        "\n",
        "# Optimizer with the above presented hyperparameters\n",
        "model = SmallCNN(number_of_classes)\n",
        "optimizer = optim.SGD(model.parameters(), lr=lr, momentum=momentum, weight_decay=weight_decay)\n",
        "\n",
        "# Learning rate scheduler to decrease learning rate every lr_decay_epochs epochs\n",
        "lr_scheduler = optim.lr_scheduler.StepLR(optimizer, step_size=lr_decay_epochs, gamma=lr_decay_factor)\n",
        "\n",
        "\n",
        "# # Hyperparameters\n",
        "\n",
        "# lr = 0.01\n",
        "# batch_size = 128\n",
        "# epochs = 100\n",
        "# number_of_classes = 2\n",
        "\n",
        "# loss_function = nn.CrossEntropyLoss()\n",
        "\n",
        "# # in base_method.py check how we can pass the tailored parameters to the CNN. 10\n",
        "# model = SmallCNN(number_of_classes)\n",
        "# optimizer = torch.optim.SGD(model.parameters(), lr = lr)\n",
        "\n",
        "# model"
      ],
      "metadata": {
        "id": "8ROjx8uF04n7"
      },
      "execution_count": 17,
      "outputs": []
    },
    {
      "cell_type": "markdown",
      "source": [
        "# Training and Testing\n",
        "Done with the specified parameters and models above"
      ],
      "metadata": {
        "id": "e1ti6kBN9F5R"
      }
    },
    {
      "cell_type": "code",
      "source": [
        "def train_erm(model, dataloader, optimizer, loss_function, epochs=100):\n",
        "    for epoch in range(epochs):\n",
        "        model.train()  # Set the model to training mode\n",
        "        total_loss = 0.0\n",
        "        correct_predictions = 0\n",
        "        total_samples = 0\n",
        "\n",
        "        for xb, yb in dataloader:\n",
        "            optimizer.zero_grad()\n",
        "            preds = model(xb)\n",
        "            loss = loss_function(preds, yb)\n",
        "            loss.backward()\n",
        "            optimizer.step()\n",
        "\n",
        "            total_loss += loss.item() * xb.size(0)\n",
        "            correct_predictions += (preds.argmax(1) == yb).sum().item()\n",
        "            total_samples += xb.size(0)\n",
        "\n",
        "        epoch_loss = total_loss / total_samples\n",
        "        epoch_accuracy = correct_predictions / total_samples\n",
        "\n",
        "        print(f\"Epoch {epoch+1}/{epochs}, Loss: {epoch_loss:.4f}, Accuracy: {epoch_accuracy:.4f}\")\n",
        "\n",
        "def test_model(model, dataloader, loss_function):\n",
        "    model.eval()  # Set the model to evaluation mode\n",
        "    total_loss = 0.0\n",
        "    correct_predictions = 0\n",
        "    total_samples = 0\n",
        "\n",
        "    with torch.no_grad():\n",
        "        for xb, yb in dataloader:\n",
        "            preds = model(xb)\n",
        "            loss = loss_function(preds, yb)\n",
        "\n",
        "            total_loss += loss.item() * xb.size(0)\n",
        "            correct_predictions += (preds.argmax(1) == yb).sum().item()\n",
        "            total_samples += xb.size(0)\n",
        "\n",
        "    average_loss = total_loss / total_samples\n",
        "    accuracy = correct_predictions / total_samples\n",
        "\n",
        "    print(f\"Test Loss: {average_loss:.4f}, Accuracy: {accuracy:.4f}\")\n"
      ],
      "metadata": {
        "id": "pmmuI9Q3y4nh"
      },
      "execution_count": 18,
      "outputs": []
    },
    {
      "cell_type": "code",
      "source": [
        "# def train_erm(model):\n",
        "#     for epoch in range(epochs):\n",
        "#         # Training on unbiased dataset\n",
        "#         model.train()  # Set model to training mode\n",
        "#         for xb, yb in biased_train_dataloader:\n",
        "#             preds = model(xb)\n",
        "#             loss = loss_function(preds, yb)\n",
        "#             optimizer.zero_grad()\n",
        "#             loss.backward()\n",
        "#             optimizer.step()\n",
        "#         print(f\"Epoch [{epoch+1}/{epochs}], Unbiased Train Loss: {loss.item():.6f}\")\n",
        "\n",
        "#         # Save the model's state dictionary for unbiased training\n",
        "#         torch.save(model.state_dict(), f'/content/data/MNIST/CNN_checkpoint_epoch_{epoch+1}.pth')\n",
        "\n",
        "#         # Training on biased dataset\n",
        "#         model.train()  # Set model to training mode\n",
        "#         for xb, yb in biased_train_dataloader:\n",
        "#             preds = model(xb)\n",
        "#             loss = loss_function(preds, yb)\n",
        "#             optimizer.zero_grad()\n",
        "#             loss.backward()\n",
        "#             optimizer.step()\n",
        "#         print(f\"Epoch [{epoch+1}/{epochs}], Biased Train Loss: {loss.item():.6f}\")\n",
        "\n",
        "#         # Save the model's state dictionary for biased training\n",
        "#         torch.save(model.state_dict(), f'/content/data/MNIST/CNN_biased_checkpoint_epoch_{epoch+1}.pth')\n"
      ],
      "metadata": {
        "id": "rdnpj9LRpxqt"
      },
      "execution_count": 18,
      "outputs": []
    },
    {
      "cell_type": "code",
      "source": [
        "# def test(model, dataloader, dataset_type):\n",
        "#     model.eval()  # Set model to evaluation mode\n",
        "#     correct = 0\n",
        "#     total = 0\n",
        "#     with torch.no_grad():\n",
        "#         for images, labels in dataloader:\n",
        "#             outputs = model(images)\n",
        "#             _, predicted = torch.max(outputs.data, 1)\n",
        "#             total += labels.size(0)\n",
        "#             correct += (predicted == labels).sum().item()\n",
        "#     accuracy = 100 * correct / total\n",
        "#     print(f'{dataset_type} Accuracy: {accuracy:.2f}%')\n",
        "\n",
        "# # Testing on unbiased test dataset\n",
        "# test(model, test_dataloader, 'Unbiased Test')\n",
        "\n",
        "# # Testing on biased test dataset\n",
        "# test(model, biased_test_dataloader, 'Biased Test')\n"
      ],
      "metadata": {
        "id": "zxbPc0o3p-hd"
      },
      "execution_count": null,
      "outputs": []
    },
    {
      "cell_type": "code",
      "source": [
        "# # training\n",
        "\n",
        "# def train_erm (model):\n",
        "#     for xb, yb in biased_train_dataloader:\n",
        "#         preds = model(xb)\n",
        "#         loss = loss_function(preds, yb)\n",
        "#         optimizer.zero_grad()\n",
        "#         loss.backward()\n",
        "#         optimizer.step()\n",
        "#     loss = loss.item()\n",
        "#     print(f\"Train loss: {loss:>7f}\")\n",
        "\n",
        "#     # Save the model's state dictionary\n",
        "#     torch.save(model.state_dict(), '/content/data/MNIST/CNN_checkpoint.pth')\n",
        "\n"
      ],
      "metadata": {
        "id": "2xIjIw7G3PNs"
      },
      "execution_count": 14,
      "outputs": []
    },
    {
      "cell_type": "code",
      "source": [
        "# # testing\n",
        "\n",
        "# def test_model (model):\n",
        "#     num_batches = len(test_dataloader)\n",
        "#     size = len(test_dataloader.dataset)\n",
        "#     test_loss, corrects = 0,0\n",
        "\n",
        "#     with torch.no_grad():\n",
        "#         for xb, yb in test_dataloader:\n",
        "#             preds=model(xb)\n",
        "#             test_loss += loss_function(preds,yb).item()\n",
        "#             corrects += (preds.argmax(1) == yb).type(torch.float).sum().item()\n",
        "\n",
        "#     test_loss /= num_batches\n",
        "#     corrects /= size\n",
        "#     print(f\"Test loss: \\n Accuracy:{(100*corrects):>0.1f}%, Avg loss:{test_loss:>8f}\\n\")"
      ],
      "metadata": {
        "id": "Q-yCsmNc3h8S"
      },
      "execution_count": 15,
      "outputs": []
    },
    {
      "cell_type": "code",
      "source": [
        "# Train the model with biased training dataset\n",
        "train_erm(model, biased_train_dataloader, optimizer, loss_function, epochs=100)\n",
        "\n",
        "# Test the model on the raw test dataset\n",
        "print(\"Testing on Raw Test Dataset:\")\n",
        "test_model(model, raw_test_dataloader, loss_function)\n",
        "\n",
        "# Test the model on the biased test dataset\n",
        "print(\"Testing on Biased Test Dataset:\")\n",
        "test_model(model, biased_test_dataloader, loss_function)\n"
      ],
      "metadata": {
        "colab": {
          "base_uri": "https://localhost:8080/"
        },
        "id": "2_avXX_C5iiE",
        "outputId": "bc7e084e-f7ab-452c-cf18-15c6cfd5280f"
      },
      "execution_count": 19,
      "outputs": [
        {
          "output_type": "stream",
          "name": "stdout",
          "text": [
            "Epoch 1/100, Loss: 0.0558, Accuracy: 0.9789\n",
            "Epoch 2/100, Loss: 0.0192, Accuracy: 0.9937\n",
            "Epoch 3/100, Loss: 0.0122, Accuracy: 0.9964\n",
            "Epoch 4/100, Loss: 0.0078, Accuracy: 0.9981\n",
            "Epoch 5/100, Loss: 0.0050, Accuracy: 0.9990\n",
            "Epoch 6/100, Loss: 0.0033, Accuracy: 0.9996\n",
            "Epoch 7/100, Loss: 0.0022, Accuracy: 0.9998\n",
            "Epoch 8/100, Loss: 0.0015, Accuracy: 1.0000\n",
            "Epoch 9/100, Loss: 0.0011, Accuracy: 1.0000\n",
            "Epoch 10/100, Loss: 0.0008, Accuracy: 1.0000\n",
            "Epoch 11/100, Loss: 0.0007, Accuracy: 1.0000\n",
            "Epoch 12/100, Loss: 0.0005, Accuracy: 1.0000\n",
            "Epoch 13/100, Loss: 0.0004, Accuracy: 1.0000\n",
            "Epoch 14/100, Loss: 0.0004, Accuracy: 1.0000\n",
            "Epoch 15/100, Loss: 0.0003, Accuracy: 1.0000\n",
            "Epoch 16/100, Loss: 0.0003, Accuracy: 1.0000\n",
            "Epoch 17/100, Loss: 0.0003, Accuracy: 1.0000\n",
            "Epoch 18/100, Loss: 0.0003, Accuracy: 1.0000\n",
            "Epoch 19/100, Loss: 0.0002, Accuracy: 1.0000\n",
            "Epoch 20/100, Loss: 0.0002, Accuracy: 1.0000\n",
            "Epoch 21/100, Loss: 0.0002, Accuracy: 1.0000\n",
            "Epoch 22/100, Loss: 0.0002, Accuracy: 1.0000\n",
            "Epoch 23/100, Loss: 0.0002, Accuracy: 1.0000\n",
            "Epoch 24/100, Loss: 0.0002, Accuracy: 1.0000\n",
            "Epoch 25/100, Loss: 0.0002, Accuracy: 1.0000\n",
            "Epoch 26/100, Loss: 0.0002, Accuracy: 1.0000\n",
            "Epoch 27/100, Loss: 0.0002, Accuracy: 1.0000\n",
            "Epoch 28/100, Loss: 0.0002, Accuracy: 1.0000\n",
            "Epoch 29/100, Loss: 0.0002, Accuracy: 1.0000\n",
            "Epoch 30/100, Loss: 0.0002, Accuracy: 1.0000\n",
            "Epoch 31/100, Loss: 0.0002, Accuracy: 1.0000\n",
            "Epoch 32/100, Loss: 0.0002, Accuracy: 1.0000\n",
            "Epoch 33/100, Loss: 0.0002, Accuracy: 1.0000\n",
            "Epoch 34/100, Loss: 0.0002, Accuracy: 1.0000\n",
            "Epoch 35/100, Loss: 0.0001, Accuracy: 1.0000\n",
            "Epoch 36/100, Loss: 0.0001, Accuracy: 1.0000\n",
            "Epoch 37/100, Loss: 0.0001, Accuracy: 1.0000\n",
            "Epoch 38/100, Loss: 0.0001, Accuracy: 1.0000\n",
            "Epoch 39/100, Loss: 0.0001, Accuracy: 1.0000\n",
            "Epoch 40/100, Loss: 0.0001, Accuracy: 1.0000\n",
            "Epoch 41/100, Loss: 0.0001, Accuracy: 1.0000\n",
            "Epoch 42/100, Loss: 0.0001, Accuracy: 1.0000\n",
            "Epoch 43/100, Loss: 0.0001, Accuracy: 1.0000\n",
            "Epoch 44/100, Loss: 0.0001, Accuracy: 1.0000\n",
            "Epoch 45/100, Loss: 0.0001, Accuracy: 1.0000\n",
            "Epoch 46/100, Loss: 0.0001, Accuracy: 1.0000\n",
            "Epoch 47/100, Loss: 0.0001, Accuracy: 1.0000\n",
            "Epoch 48/100, Loss: 0.0001, Accuracy: 1.0000\n",
            "Epoch 49/100, Loss: 0.0001, Accuracy: 1.0000\n",
            "Epoch 50/100, Loss: 0.0001, Accuracy: 1.0000\n",
            "Epoch 51/100, Loss: 0.0001, Accuracy: 1.0000\n",
            "Epoch 52/100, Loss: 0.0001, Accuracy: 1.0000\n",
            "Epoch 53/100, Loss: 0.0001, Accuracy: 1.0000\n",
            "Epoch 54/100, Loss: 0.0001, Accuracy: 1.0000\n",
            "Epoch 55/100, Loss: 0.0001, Accuracy: 1.0000\n",
            "Epoch 56/100, Loss: 0.0001, Accuracy: 1.0000\n",
            "Epoch 57/100, Loss: 0.0001, Accuracy: 1.0000\n",
            "Epoch 58/100, Loss: 0.0001, Accuracy: 1.0000\n",
            "Epoch 59/100, Loss: 0.0001, Accuracy: 1.0000\n",
            "Epoch 60/100, Loss: 0.0001, Accuracy: 1.0000\n",
            "Epoch 61/100, Loss: 0.0001, Accuracy: 1.0000\n",
            "Epoch 62/100, Loss: 0.0001, Accuracy: 1.0000\n",
            "Epoch 63/100, Loss: 0.0001, Accuracy: 1.0000\n",
            "Epoch 64/100, Loss: 0.0001, Accuracy: 1.0000\n",
            "Epoch 65/100, Loss: 0.0001, Accuracy: 1.0000\n",
            "Epoch 66/100, Loss: 0.0001, Accuracy: 1.0000\n",
            "Epoch 67/100, Loss: 0.0001, Accuracy: 1.0000\n",
            "Epoch 68/100, Loss: 0.0001, Accuracy: 1.0000\n",
            "Epoch 69/100, Loss: 0.0001, Accuracy: 1.0000\n",
            "Epoch 70/100, Loss: 0.0001, Accuracy: 1.0000\n",
            "Epoch 71/100, Loss: 0.0001, Accuracy: 1.0000\n",
            "Epoch 72/100, Loss: 0.0001, Accuracy: 1.0000\n",
            "Epoch 73/100, Loss: 0.0001, Accuracy: 1.0000\n",
            "Epoch 74/100, Loss: 0.0001, Accuracy: 1.0000\n",
            "Epoch 75/100, Loss: 0.0001, Accuracy: 1.0000\n",
            "Epoch 76/100, Loss: 0.0001, Accuracy: 1.0000\n",
            "Epoch 77/100, Loss: 0.0001, Accuracy: 1.0000\n",
            "Epoch 78/100, Loss: 0.0001, Accuracy: 1.0000\n",
            "Epoch 79/100, Loss: 0.0001, Accuracy: 1.0000\n",
            "Epoch 80/100, Loss: 0.0001, Accuracy: 1.0000\n",
            "Epoch 81/100, Loss: 0.0001, Accuracy: 1.0000\n",
            "Epoch 82/100, Loss: 0.0001, Accuracy: 1.0000\n",
            "Epoch 83/100, Loss: 0.0001, Accuracy: 1.0000\n",
            "Epoch 84/100, Loss: 0.0001, Accuracy: 1.0000\n",
            "Epoch 85/100, Loss: 0.0001, Accuracy: 1.0000\n",
            "Epoch 86/100, Loss: 0.0001, Accuracy: 1.0000\n",
            "Epoch 87/100, Loss: 0.0001, Accuracy: 1.0000\n",
            "Epoch 88/100, Loss: 0.0001, Accuracy: 1.0000\n",
            "Epoch 89/100, Loss: 0.0001, Accuracy: 1.0000\n",
            "Epoch 90/100, Loss: 0.0001, Accuracy: 1.0000\n",
            "Epoch 91/100, Loss: 0.0001, Accuracy: 1.0000\n",
            "Epoch 92/100, Loss: 0.0001, Accuracy: 1.0000\n",
            "Epoch 93/100, Loss: 0.0001, Accuracy: 1.0000\n",
            "Epoch 94/100, Loss: 0.0001, Accuracy: 1.0000\n",
            "Epoch 95/100, Loss: 0.0001, Accuracy: 1.0000\n",
            "Epoch 96/100, Loss: 0.0001, Accuracy: 1.0000\n",
            "Epoch 97/100, Loss: 0.0001, Accuracy: 1.0000\n",
            "Epoch 98/100, Loss: 0.0001, Accuracy: 1.0000\n",
            "Epoch 99/100, Loss: 0.0001, Accuracy: 1.0000\n",
            "Epoch 100/100, Loss: 0.0001, Accuracy: 1.0000\n",
            "Testing on Raw Test Dataset:\n",
            "Test Loss: 0.0347, Accuracy: 0.9894\n",
            "Testing on Biased Test Dataset:\n",
            "Test Loss: 0.0703, Accuracy: 0.9794\n"
          ]
        }
      ]
    },
    {
      "cell_type": "code",
      "source": [
        "# for t in range(1):\n",
        "#     train_erm(model)\n",
        "#     test_model(model)\n",
        "#     #test(model, biased_train_dataloader, dataset_type='Biased')\n"
      ],
      "metadata": {
        "colab": {
          "base_uri": "https://localhost:8080/"
        },
        "id": "IFG9TzGi6qe6",
        "outputId": "47c1951d-a1fc-4c30-bf29-2117b68cd7c8"
      },
      "execution_count": 16,
      "outputs": [
        {
          "output_type": "stream",
          "name": "stdout",
          "text": [
            "Train loss: 0.001844\n",
            "Test loss: \n",
            " Accuracy:98.2%, Avg loss:0.049803\n",
            "\n"
          ]
        }
      ]
    },
    {
      "cell_type": "markdown",
      "source": [
        "# Generating Saliency Map using XGradCAM\n",
        "Implementing explainability.\n",
        "Using the, for example, last convolutional layer from the trained CNN checkpoint to generate the gradient and hook.\n",
        "Pass a random instance from each class to the trained model. The model, target layer from the trained network and the network output are used to generate a saliency_map which is interpolated and projected onto the appropriate input image."
      ],
      "metadata": {
        "id": "EwbD6_8B9Vwa"
      }
    },
    {
      "cell_type": "code",
      "source": [
        "def generate_map(sample_data, sample_class):\n",
        "    checkpoint = torch.load('/content/data/MNIST/CNN_checkpoint.pth') # Load the saved model checkpoint\n",
        "    model.load_state_dict(checkpoint)\n",
        "    # Don’t forget to set your model into the evaluation mode, otherwise you can get very random results\n",
        "    model.eval() # Set the model to evaluation mode\n",
        "\n",
        "    # Get the target layer\n",
        "    target_layer = model.get_grad_cam_target_layer() # Last convolutional layer is the target\n",
        "    # Prepare the input tensor\n",
        "    input_tensor = sample_data # a sample from the dataset passed to the function\n",
        "\n",
        "    cam = XGradCAM(model, target_layer)\n",
        "    output = model (input_tensor.unsqueeze(0))\n",
        "    saliency_map = cam(class_idx = sample_class, scores = output)\n",
        "\n",
        "    # Now we can visualize the saliency map\n",
        "    # Get the first saliency map tensor from the list\n",
        "    saliency_map_tensor = saliency_map[0]\n",
        "\n",
        "    # Convert the saliency map tensor to a numpy array\n",
        "    saliency_map_np = saliency_map_tensor.detach().cpu().numpy()\n",
        "\n",
        "    # Reshape the saliency map to 2D\n",
        "    saliency_map_np = saliency_map_np.reshape(saliency_map_np.shape[1:])\n",
        "\n",
        "    # Visualize or process the saliency map as needed\n",
        "    # For example, you can plot it as an image\n",
        "    #plt.imshow(saliency_map_np, cmap='hot', interpolation='nearest')\n",
        "    #plt.axis('off')\n",
        "    #plt.show()\n",
        "\n",
        "    return saliency_map_np"
      ],
      "metadata": {
        "id": "ChsPbczY-i3h"
      },
      "execution_count": 20,
      "outputs": []
    },
    {
      "cell_type": "code",
      "source": [
        "def interpolate_heatmap(input_tensor, saliency_map_np):\n",
        "    # Convert the input tensor to a numpy array image\n",
        "    input_img_np = input_tensor.squeeze(0).cpu().numpy()\n",
        "    input_img_np = np.uint8(255 * input_img_np)\n",
        "\n",
        "    # Resize the saliency map to match the size of the original image\n",
        "    heatmap_resized = cv2.resize(saliency_map_np, (input_img_np.shape[1], input_img_np.shape[0]))\n",
        "\n",
        "    # Normalize the saliency map values to the range [0, 255]\n",
        "    heatmap_resized = (heatmap_resized - np.min(heatmap_resized)) / (np.max(heatmap_resized) - np.min(heatmap_resized)) * 255\n",
        "    heatmap_resized = np.uint8(heatmap_resized)\n",
        "\n",
        "    # Convert the original image to a BGR format\n",
        "    input_img_bgr = cv2.cvtColor(input_img_np, cv2.COLOR_GRAY2BGR)\n",
        "\n",
        "    # Apply a colormap to the saliency map to convert it into a heatmap image\n",
        "    heatmap_colored = cv2.applyColorMap(heatmap_resized, cv2.COLORMAP_JET)\n",
        "\n",
        "    # Resize the heatmap image to match the size of the original image\n",
        "    heatmap_colored_resized = cv2.resize(heatmap_colored, (input_img_np.shape[1], input_img_np.shape[0]))\n",
        "\n",
        "    # Overlay the heatmap image onto the original image\n",
        "    superimposed_img = cv2.addWeighted(input_img_bgr, 0.7, heatmap_colored_resized, 0.3, 0)\n",
        "\n",
        "    return superimposed_img\n"
      ],
      "metadata": {
        "id": "dcyW-CH_oFC4"
      },
      "execution_count": 21,
      "outputs": []
    },
    {
      "cell_type": "code",
      "source": [
        "import random\n",
        "\n",
        "# Dictionary to store interpolated images by class label\n",
        "interpolated_images_by_class = {}\n",
        "\n",
        "# Function to generate and interpolate the heatmap for one instance of each class\n",
        "def generate_and_interpolate_heatmap_one_per_class():\n",
        "    # Create a dictionary to hold the data instances for each class\n",
        "    class_data_dict = {}\n",
        "\n",
        "    # Iterate through the training data\n",
        "    for data, label in remapped_spurious_train_data_tensor:\n",
        "        if label not in class_data_dict:\n",
        "            class_data_dict[label] = []\n",
        "        class_data_dict[label].append(data)\n",
        "    # Iterate through each class label\n",
        "    for class_label in range(10):  # Assuming 10 classes (0 to 9)\n",
        "        # Get the data instances for the specified class label\n",
        "        class_data = class_data_dict.get(class_label, [])\n",
        "\n",
        "        # Select one random instance from the class data\n",
        "        if class_data:\n",
        "            random_instance = random.choice(class_data)\n",
        "\n",
        "            # Generate the saliency map for the random instance\n",
        "            saliency_map_np = generate_map(random_instance, class_label)\n",
        "\n",
        "            # Interpolate the heatmap for the random instance\n",
        "            interpolated_img = interpolate_heatmap(random_instance, saliency_map_np)\n",
        "\n",
        "            # Store the interpolated image in the dictionary by class label\n",
        "            interpolated_images_by_class[class_label] = interpolated_img\n",
        "\n",
        "# Generate interpolated images for one instance per class\n",
        "generate_and_interpolate_heatmap_one_per_class()\n",
        "\n",
        "# Plot the interpolated images with their class labels\n",
        "fig, axs = plt.subplots(2, 5, figsize=(15, 6))\n",
        "for i, ax in enumerate(axs.flat):\n",
        "    class_label = i\n",
        "    interpolated_img = interpolated_images_by_class.get(class_label)\n",
        "    if interpolated_img is not None:\n",
        "        ax.imshow(interpolated_img, cmap='hot', interpolation='nearest')\n",
        "        ax.axis('off')\n",
        "        ax.set_title(f'Class {class_label}')\n",
        "    else:\n",
        "        ax.axis('off')\n",
        "\n",
        "plt.tight_layout()\n",
        "plt.show()\n"
      ],
      "metadata": {
        "colab": {
          "base_uri": "https://localhost:8080/",
          "height": 356
        },
        "id": "zBuAEO3LK1EH",
        "outputId": "b69d558c-6d0e-4bed-cedf-f04a7bb059cc"
      },
      "execution_count": 22,
      "outputs": [
        {
          "output_type": "error",
          "ename": "FileNotFoundError",
          "evalue": "[Errno 2] No such file or directory: '/content/data/MNIST/CNN_checkpoint.pth'",
          "traceback": [
            "\u001b[0;31m---------------------------------------------------------------------------\u001b[0m",
            "\u001b[0;31mFileNotFoundError\u001b[0m                         Traceback (most recent call last)",
            "\u001b[0;32m<ipython-input-22-8631ff20c200>\u001b[0m in \u001b[0;36m<cell line: 35>\u001b[0;34m()\u001b[0m\n\u001b[1;32m     33\u001b[0m \u001b[0;34m\u001b[0m\u001b[0m\n\u001b[1;32m     34\u001b[0m \u001b[0;31m# Generate interpolated images for one instance per class\u001b[0m\u001b[0;34m\u001b[0m\u001b[0;34m\u001b[0m\u001b[0m\n\u001b[0;32m---> 35\u001b[0;31m \u001b[0mgenerate_and_interpolate_heatmap_one_per_class\u001b[0m\u001b[0;34m(\u001b[0m\u001b[0;34m)\u001b[0m\u001b[0;34m\u001b[0m\u001b[0;34m\u001b[0m\u001b[0m\n\u001b[0m\u001b[1;32m     36\u001b[0m \u001b[0;34m\u001b[0m\u001b[0m\n\u001b[1;32m     37\u001b[0m \u001b[0;31m# Plot the interpolated images with their class labels\u001b[0m\u001b[0;34m\u001b[0m\u001b[0;34m\u001b[0m\u001b[0m\n",
            "\u001b[0;32m<ipython-input-22-8631ff20c200>\u001b[0m in \u001b[0;36mgenerate_and_interpolate_heatmap_one_per_class\u001b[0;34m()\u001b[0m\n\u001b[1;32m     24\u001b[0m \u001b[0;34m\u001b[0m\u001b[0m\n\u001b[1;32m     25\u001b[0m             \u001b[0;31m# Generate the saliency map for the random instance\u001b[0m\u001b[0;34m\u001b[0m\u001b[0;34m\u001b[0m\u001b[0m\n\u001b[0;32m---> 26\u001b[0;31m             \u001b[0msaliency_map_np\u001b[0m \u001b[0;34m=\u001b[0m \u001b[0mgenerate_map\u001b[0m\u001b[0;34m(\u001b[0m\u001b[0mrandom_instance\u001b[0m\u001b[0;34m,\u001b[0m \u001b[0mclass_label\u001b[0m\u001b[0;34m)\u001b[0m\u001b[0;34m\u001b[0m\u001b[0;34m\u001b[0m\u001b[0m\n\u001b[0m\u001b[1;32m     27\u001b[0m \u001b[0;34m\u001b[0m\u001b[0m\n\u001b[1;32m     28\u001b[0m             \u001b[0;31m# Interpolate the heatmap for the random instance\u001b[0m\u001b[0;34m\u001b[0m\u001b[0;34m\u001b[0m\u001b[0m\n",
            "\u001b[0;32m<ipython-input-20-b5b4ae9dd6ae>\u001b[0m in \u001b[0;36mgenerate_map\u001b[0;34m(sample_data, sample_class)\u001b[0m\n\u001b[1;32m      1\u001b[0m \u001b[0;32mdef\u001b[0m \u001b[0mgenerate_map\u001b[0m\u001b[0;34m(\u001b[0m\u001b[0msample_data\u001b[0m\u001b[0;34m,\u001b[0m \u001b[0msample_class\u001b[0m\u001b[0;34m)\u001b[0m\u001b[0;34m:\u001b[0m\u001b[0;34m\u001b[0m\u001b[0;34m\u001b[0m\u001b[0m\n\u001b[0;32m----> 2\u001b[0;31m     \u001b[0mcheckpoint\u001b[0m \u001b[0;34m=\u001b[0m \u001b[0mtorch\u001b[0m\u001b[0;34m.\u001b[0m\u001b[0mload\u001b[0m\u001b[0;34m(\u001b[0m\u001b[0;34m'/content/data/MNIST/CNN_checkpoint.pth'\u001b[0m\u001b[0;34m)\u001b[0m \u001b[0;31m# Load the saved model checkpoint\u001b[0m\u001b[0;34m\u001b[0m\u001b[0;34m\u001b[0m\u001b[0m\n\u001b[0m\u001b[1;32m      3\u001b[0m     \u001b[0mmodel\u001b[0m\u001b[0;34m.\u001b[0m\u001b[0mload_state_dict\u001b[0m\u001b[0;34m(\u001b[0m\u001b[0mcheckpoint\u001b[0m\u001b[0;34m)\u001b[0m\u001b[0;34m\u001b[0m\u001b[0;34m\u001b[0m\u001b[0m\n\u001b[1;32m      4\u001b[0m     \u001b[0;31m# Don’t forget to set your model into the evaluation mode, otherwise you can get very random results\u001b[0m\u001b[0;34m\u001b[0m\u001b[0;34m\u001b[0m\u001b[0m\n\u001b[1;32m      5\u001b[0m     \u001b[0mmodel\u001b[0m\u001b[0;34m.\u001b[0m\u001b[0meval\u001b[0m\u001b[0;34m(\u001b[0m\u001b[0;34m)\u001b[0m \u001b[0;31m# Set the model to evaluation mode\u001b[0m\u001b[0;34m\u001b[0m\u001b[0;34m\u001b[0m\u001b[0m\n",
            "\u001b[0;32m/usr/local/lib/python3.10/dist-packages/torch/serialization.py\u001b[0m in \u001b[0;36mload\u001b[0;34m(f, map_location, pickle_module, weights_only, mmap, **pickle_load_args)\u001b[0m\n\u001b[1;32m    996\u001b[0m         \u001b[0mpickle_load_args\u001b[0m\u001b[0;34m[\u001b[0m\u001b[0;34m'encoding'\u001b[0m\u001b[0;34m]\u001b[0m \u001b[0;34m=\u001b[0m \u001b[0;34m'utf-8'\u001b[0m\u001b[0;34m\u001b[0m\u001b[0;34m\u001b[0m\u001b[0m\n\u001b[1;32m    997\u001b[0m \u001b[0;34m\u001b[0m\u001b[0m\n\u001b[0;32m--> 998\u001b[0;31m     \u001b[0;32mwith\u001b[0m \u001b[0m_open_file_like\u001b[0m\u001b[0;34m(\u001b[0m\u001b[0mf\u001b[0m\u001b[0;34m,\u001b[0m \u001b[0;34m'rb'\u001b[0m\u001b[0;34m)\u001b[0m \u001b[0;32mas\u001b[0m \u001b[0mopened_file\u001b[0m\u001b[0;34m:\u001b[0m\u001b[0;34m\u001b[0m\u001b[0;34m\u001b[0m\u001b[0m\n\u001b[0m\u001b[1;32m    999\u001b[0m         \u001b[0;32mif\u001b[0m \u001b[0m_is_zipfile\u001b[0m\u001b[0;34m(\u001b[0m\u001b[0mopened_file\u001b[0m\u001b[0;34m)\u001b[0m\u001b[0;34m:\u001b[0m\u001b[0;34m\u001b[0m\u001b[0;34m\u001b[0m\u001b[0m\n\u001b[1;32m   1000\u001b[0m             \u001b[0;31m# The zipfile reader is going to advance the current file position.\u001b[0m\u001b[0;34m\u001b[0m\u001b[0;34m\u001b[0m\u001b[0m\n",
            "\u001b[0;32m/usr/local/lib/python3.10/dist-packages/torch/serialization.py\u001b[0m in \u001b[0;36m_open_file_like\u001b[0;34m(name_or_buffer, mode)\u001b[0m\n\u001b[1;32m    443\u001b[0m \u001b[0;32mdef\u001b[0m \u001b[0m_open_file_like\u001b[0m\u001b[0;34m(\u001b[0m\u001b[0mname_or_buffer\u001b[0m\u001b[0;34m,\u001b[0m \u001b[0mmode\u001b[0m\u001b[0;34m)\u001b[0m\u001b[0;34m:\u001b[0m\u001b[0;34m\u001b[0m\u001b[0;34m\u001b[0m\u001b[0m\n\u001b[1;32m    444\u001b[0m     \u001b[0;32mif\u001b[0m \u001b[0m_is_path\u001b[0m\u001b[0;34m(\u001b[0m\u001b[0mname_or_buffer\u001b[0m\u001b[0;34m)\u001b[0m\u001b[0;34m:\u001b[0m\u001b[0;34m\u001b[0m\u001b[0;34m\u001b[0m\u001b[0m\n\u001b[0;32m--> 445\u001b[0;31m         \u001b[0;32mreturn\u001b[0m \u001b[0m_open_file\u001b[0m\u001b[0;34m(\u001b[0m\u001b[0mname_or_buffer\u001b[0m\u001b[0;34m,\u001b[0m \u001b[0mmode\u001b[0m\u001b[0;34m)\u001b[0m\u001b[0;34m\u001b[0m\u001b[0;34m\u001b[0m\u001b[0m\n\u001b[0m\u001b[1;32m    446\u001b[0m     \u001b[0;32melse\u001b[0m\u001b[0;34m:\u001b[0m\u001b[0;34m\u001b[0m\u001b[0;34m\u001b[0m\u001b[0m\n\u001b[1;32m    447\u001b[0m         \u001b[0;32mif\u001b[0m \u001b[0;34m'w'\u001b[0m \u001b[0;32min\u001b[0m \u001b[0mmode\u001b[0m\u001b[0;34m:\u001b[0m\u001b[0;34m\u001b[0m\u001b[0;34m\u001b[0m\u001b[0m\n",
            "\u001b[0;32m/usr/local/lib/python3.10/dist-packages/torch/serialization.py\u001b[0m in \u001b[0;36m__init__\u001b[0;34m(self, name, mode)\u001b[0m\n\u001b[1;32m    424\u001b[0m \u001b[0;32mclass\u001b[0m \u001b[0m_open_file\u001b[0m\u001b[0;34m(\u001b[0m\u001b[0m_opener\u001b[0m\u001b[0;34m)\u001b[0m\u001b[0;34m:\u001b[0m\u001b[0;34m\u001b[0m\u001b[0;34m\u001b[0m\u001b[0m\n\u001b[1;32m    425\u001b[0m     \u001b[0;32mdef\u001b[0m \u001b[0m__init__\u001b[0m\u001b[0;34m(\u001b[0m\u001b[0mself\u001b[0m\u001b[0;34m,\u001b[0m \u001b[0mname\u001b[0m\u001b[0;34m,\u001b[0m \u001b[0mmode\u001b[0m\u001b[0;34m)\u001b[0m\u001b[0;34m:\u001b[0m\u001b[0;34m\u001b[0m\u001b[0;34m\u001b[0m\u001b[0m\n\u001b[0;32m--> 426\u001b[0;31m         \u001b[0msuper\u001b[0m\u001b[0;34m(\u001b[0m\u001b[0;34m)\u001b[0m\u001b[0;34m.\u001b[0m\u001b[0m__init__\u001b[0m\u001b[0;34m(\u001b[0m\u001b[0mopen\u001b[0m\u001b[0;34m(\u001b[0m\u001b[0mname\u001b[0m\u001b[0;34m,\u001b[0m \u001b[0mmode\u001b[0m\u001b[0;34m)\u001b[0m\u001b[0;34m)\u001b[0m\u001b[0;34m\u001b[0m\u001b[0;34m\u001b[0m\u001b[0m\n\u001b[0m\u001b[1;32m    427\u001b[0m \u001b[0;34m\u001b[0m\u001b[0m\n\u001b[1;32m    428\u001b[0m     \u001b[0;32mdef\u001b[0m \u001b[0m__exit__\u001b[0m\u001b[0;34m(\u001b[0m\u001b[0mself\u001b[0m\u001b[0;34m,\u001b[0m \u001b[0;34m*\u001b[0m\u001b[0margs\u001b[0m\u001b[0;34m)\u001b[0m\u001b[0;34m:\u001b[0m\u001b[0;34m\u001b[0m\u001b[0;34m\u001b[0m\u001b[0m\n",
            "\u001b[0;31mFileNotFoundError\u001b[0m: [Errno 2] No such file or directory: '/content/data/MNIST/CNN_checkpoint.pth'"
          ]
        }
      ]
    },
    {
      "cell_type": "code",
      "source": [
        "import torch\n",
        "import numpy as np\n",
        "import cv2\n",
        "\n",
        "def accumulate_and_plot_average_saliency_map(train_data_biased, generate_map, class_label_to_accumulate, num_maps_to_accumulate=20):\n",
        "    # List to store accumulated saliency maps for the chosen class label\n",
        "    accumulated_saliency_maps = []\n",
        "\n",
        "    # Function to accumulate the input tensors for the chosen class label\n",
        "    def accumulate_inputs():\n",
        "        # List to store accumulated input tensors for the chosen class label\n",
        "        accumulated_inputs = []\n",
        "\n",
        "        # Iterate through the training data\n",
        "        for data in remapped_spurious_train_data_tensor:\n",
        "            input_tensor, class_label = data\n",
        "\n",
        "            # Check if the class label matches the chosen class label\n",
        "            if class_label == class_label_to_accumulate:\n",
        "                # Accumulate the input tensor\n",
        "                accumulated_inputs.append(input_tensor)\n",
        "\n",
        "        return accumulated_inputs\n",
        "\n",
        "    # Accumulate the input tensors for the chosen class label\n",
        "    accumulated_inputs = accumulate_inputs()\n",
        "\n",
        "    # Function to generate and accumulate the saliency maps for the chosen class label\n",
        "    def accumulate_saliency_maps():\n",
        "        nonlocal accumulated_saliency_maps\n",
        "        # Generate saliency maps for the chosen class label\n",
        "        for _ in range(num_maps_to_accumulate):\n",
        "            # Choose a random input tensor from the accumulated inputs\n",
        "            input_tensor = random.choice(accumulated_inputs)\n",
        "\n",
        "            # Generate the saliency map for the chosen input tensor\n",
        "            saliency_map = generate_map(input_tensor, class_label_to_accumulate)\n",
        "\n",
        "            # Accumulate the saliency map\n",
        "            accumulated_saliency_maps.append(saliency_map)\n",
        "\n",
        "    # Generate and accumulate saliency maps for the chosen class label\n",
        "    accumulate_saliency_maps()\n",
        "\n",
        "    # Convert the list of accumulated saliency maps to a numpy array\n",
        "    accumulated_saliency_maps_array = np.array(accumulated_saliency_maps)\n",
        "\n",
        "    # Compute the average saliency map\n",
        "    average_saliency_map = np.mean(accumulated_saliency_maps_array, axis=0)\n",
        "\n",
        "    # Interpolate the average saliency map to match the size of the original input image (28x28)\n",
        "    interpolated_avg_saliency_map = cv2.resize(average_saliency_map, (28, 28), interpolation=cv2.INTER_LINEAR)\n",
        "\n",
        "    # Plot the interpolated average saliency map\n",
        "    # plt.imshow(interpolated_avg_saliency_map, cmap='hot', interpolation='nearest')\n",
        "    # plt.axis('off')\n",
        "    # plt.title('Interpolated Average Saliency Map for Class {}'.format(class_label_to_accumulate))\n",
        "    # plt.show()\n",
        "\n",
        "    return interpolated_avg_saliency_map\n"
      ],
      "metadata": {
        "id": "5pHI0irlReLh"
      },
      "execution_count": null,
      "outputs": []
    },
    {
      "cell_type": "code",
      "source": [
        "interpolated_images_by_class = {}\n",
        "\n",
        "for class_label in range(number_of_classes):\n",
        "    interpolated_img = accumulate_and_plot_average_saliency_map(remapped_spurious_train_data_tensor, generate_map, class_label_to_accumulate=class_label)\n",
        "    interpolated_images_by_class[class_label] = interpolated_img\n",
        "\n",
        "# Plot the interpolated images with their class labels\n",
        "fig, axs = plt.subplots(2, 5, figsize=(15, 6))\n",
        "for i, ax in enumerate(axs.flat):\n",
        "    class_label = i\n",
        "    interpolated_img = interpolated_images_by_class.get(class_label)\n",
        "    if interpolated_img is not None:\n",
        "        ax.imshow(interpolated_img, cmap='hot', interpolation='nearest')\n",
        "        ax.axis('off')\n",
        "        ax.set_title(f'Class {class_label}')\n",
        "    else:\n",
        "        ax.axis('off')\n",
        "\n",
        "plt.tight_layout()\n",
        "plt.show()\n"
      ],
      "metadata": {
        "id": "G6oI5PQmR52B"
      },
      "execution_count": null,
      "outputs": []
    },
    {
      "cell_type": "markdown",
      "source": [
        "TODO:\n",
        "start implementing MaskTune for MNIST\n",
        "\n",
        "- [x] **ISSUE:** The transformation function transforms every instance in the dataset instead of the ones of the chosen class\n",
        "- [x] Create a biased MNIST dataset - for it to work, induce spurious feature to one class so the model will pick up the easyeast detectable feature. If the bias is applied to every class, the result wont change because during training, the model is forced to focus on other features in order to predict correctly.\n",
        "- [ ] See how it performs compared to unbised MNIST\n",
        "\n",
        "---\n",
        "\n",
        "- [ ] def `finetune` (finetune erm checkpoint with ```masktune```)\n",
        "- [ ] def ```masktune```\n",
        "- [ ] def ```finetune```\n",
        "\n",
        "---\n",
        "\n",
        "- [ ] Compare performances and saliency matrices between unbiased and biased MNIST datasets\n",
        "\n",
        "\n",
        "\n"
      ],
      "metadata": {
        "id": "2zzb23_ZU1Uf"
      }
    },
    {
      "cell_type": "code",
      "source": [],
      "metadata": {
        "id": "ch_tT-25_JQQ"
      },
      "execution_count": null,
      "outputs": []
    }
  ]
}